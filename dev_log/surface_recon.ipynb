{
 "cells": [
  {
   "cell_type": "code",
   "execution_count": null,
   "metadata": {},
   "outputs": [],
   "source": [
    "from edf.pc_utils import draw_geometry, reconstruct_surface\n",
    "from edf.data import PointCloud, SE3, TargetPoseDemo, DemoSequence, load_demos\n",
    "\n",
    "import numpy as np\n",
    "import yaml\n",
    "import plotly as pl\n",
    "import plotly.express as ple\n",
    "import open3d as o3d"
   ]
  },
  {
   "cell_type": "code",
   "execution_count": null,
   "metadata": {},
   "outputs": [],
   "source": [
    "demos  = load_demos(\"demo/test_demo/\")\n",
    "demo_seq: DemoSequence = demos[0]"
   ]
  },
  {
   "cell_type": "code",
   "execution_count": null,
   "metadata": {},
   "outputs": [],
   "source": [
    "pcd = demo_seq[1].grasp_pc.to_pcd()\n",
    "# draw_geometry(pcd)"
   ]
  },
  {
   "cell_type": "code",
   "execution_count": null,
   "metadata": {},
   "outputs": [],
   "source": [
    "pcd, _ = pcd.remove_statistical_outlier(nb_neighbors=20,\n",
    "                                         std_ratio=2.0)"
   ]
  },
  {
   "cell_type": "code",
   "execution_count": null,
   "metadata": {},
   "outputs": [],
   "source": [
    "if True:\n",
    "    alpha = 0.015\n",
    "    mesh = o3d.geometry.TriangleMesh.create_from_point_cloud_alpha_shape(pcd, alpha)\n",
    "    mesh.compute_vertex_normals()\n",
    "    o3d.visualization.draw_geometries([mesh], mesh_show_back_face=True)\n",
    "\n",
    "if False:\n",
    "    pcd.normals = o3d.utility.Vector3dVector(np.zeros((1, 3)))\n",
    "    pcd.estimate_normals()\n",
    "    pcd.orient_normals_consistent_tangent_plane(100)\n",
    "\n",
    "    radii = [0.005, 0.01, 0.02, 0.04]\n",
    "    mesh = o3d.geometry.TriangleMesh.create_from_point_cloud_ball_pivoting(\n",
    "        pcd, o3d.utility.DoubleVector(radii))\n",
    "\n",
    "    # o3d.visualization.draw_geometries([mesh], mesh_show_back_face=False)\n",
    "\n",
    "if False:\n",
    "    pcd.normals = o3d.utility.Vector3dVector(np.zeros((1, 3)))\n",
    "    pcd.estimate_normals()\n",
    "    pcd.orient_normals_consistent_tangent_plane(200)\n",
    "\n",
    "    print('run Poisson surface reconstruction')\n",
    "    with o3d.utility.VerbosityContextManager(\n",
    "            o3d.utility.VerbosityLevel.Debug) as cm:\n",
    "        mesh, densities = o3d.geometry.TriangleMesh.create_from_point_cloud_poisson(\n",
    "            pcd, depth=10)\n",
    "    print(mesh)\n",
    "    o3d.visualization.draw_geometries([mesh], mesh_show_back_face=True)"
   ]
  },
  {
   "cell_type": "code",
   "execution_count": null,
   "metadata": {},
   "outputs": [],
   "source": [
    "mesh_in = mesh\n",
    "\n",
    "mesh_out = mesh_in.filter_smooth_simple(number_of_iterations=5)\n",
    "mesh_out.compute_vertex_normals()\n",
    "o3d.visualization.draw_geometries([mesh_out], mesh_show_back_face=True)"
   ]
  },
  {
   "cell_type": "code",
   "execution_count": null,
   "metadata": {},
   "outputs": [],
   "source": []
  },
  {
   "cell_type": "code",
   "execution_count": null,
   "metadata": {},
   "outputs": [],
   "source": []
  },
  {
   "cell_type": "code",
   "execution_count": null,
   "metadata": {},
   "outputs": [],
   "source": []
  },
  {
   "cell_type": "code",
   "execution_count": null,
   "metadata": {},
   "outputs": [],
   "source": []
  },
  {
   "cell_type": "code",
   "execution_count": null,
   "metadata": {},
   "outputs": [],
   "source": []
  }
 ],
 "metadata": {
  "kernelspec": {
   "display_name": "Python 3 (ipykernel)",
   "language": "python",
   "name": "python3"
  },
  "language_info": {
   "codemirror_mode": {
    "name": "ipython",
    "version": 3
   },
   "file_extension": ".py",
   "mimetype": "text/x-python",
   "name": "python",
   "nbconvert_exporter": "python",
   "pygments_lexer": "ipython3",
   "version": "3.8.16"
  },
  "vscode": {
   "interpreter": {
    "hash": "af6666271aa88010cf2cfaabf400b3e4725e891d1262c16234a99fd43f726498"
   }
  }
 },
 "nbformat": 4,
 "nbformat_minor": 2
}
