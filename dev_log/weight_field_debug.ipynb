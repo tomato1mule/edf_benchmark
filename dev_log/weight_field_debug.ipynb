{
 "cells": [
  {
   "cell_type": "code",
   "execution_count": 1,
   "metadata": {},
   "outputs": [
    {
     "name": "stdout",
     "output_type": "stream",
     "text": [
      "Jupyter environment detected. Enabling Open3D WebVisualizer.\n",
      "[Open3D INFO] WebRTC GUI backend enabled.\n",
      "[Open3D INFO] WebRTCWindowSystem: HTTP handshake server disabled.\n"
     ]
    }
   ],
   "source": [
    "import os\n",
    "\n",
    "from edf.pc_utils import draw_geometry, voxel_filter\n",
    "from edf.data import PointCloud, SE3, TargetPoseDemo, DemoSequence, DemoSeqDataset\n",
    "from edf.preprocess import Rescale, NormalizeColor, Downsample\n",
    "from edf.agent import PickAgent, PlaceAgent\n",
    "\n",
    "import numpy as np\n",
    "import yaml\n",
    "import plotly as pl\n",
    "import plotly.express as ple\n",
    "import open3d as o3d\n",
    "\n",
    "import torch\n",
    "from torch.utils.data import DataLoader\n",
    "from torchvision.transforms import Compose\n",
    "\n",
    "torch.set_printoptions(precision= 3, sci_mode=False, linewidth=120)"
   ]
  },
  {
   "cell_type": "code",
   "execution_count": 2,
   "metadata": {},
   "outputs": [],
   "source": [
    "scene_proc_fn = Compose([Downsample(voxel_size=1.7, coord_reduction=\"average\"),\n",
    "                            NormalizeColor(color_mean = torch.tensor([0.5, 0.5, 0.5]), color_std = torch.tensor([0.5, 0.5, 0.5]))])\n",
    "grasp_proc_fn = Compose([Downsample(voxel_size=1.4, coord_reduction=\"average\"),\n",
    "                            NormalizeColor(color_mean = torch.tensor([0.5, 0.5, 0.5]), color_std = torch.tensor([0.5, 0.5, 0.5]))])"
   ]
  },
  {
   "cell_type": "code",
   "execution_count": 3,
   "metadata": {},
   "outputs": [],
   "source": [
    "device = 'cuda:0'\n",
    "# device = 'cpu'\n",
    "unit_len = 0.01\n",
    "\n",
    "load_transforms = Compose([Rescale(rescale_factor=1/unit_len),\n",
    "                          ])\n",
    "trainset = DemoSeqDataset(dataset_dir=\"demo/test_demo1\", annotation_file=\"data.yaml\", load_transforms = load_transforms, device=device)\n",
    "# train_dataloader = DataLoader(trainset, shuffle=False, collate_fn=lambda xs:{'processed': [x['processed'] for x in xs], 'raw': [x['raw'] for x in xs]}) \n",
    "train_dataloader = DataLoader(trainset, shuffle=False, collate_fn=lambda x:x)"
   ]
  },
  {
   "cell_type": "code",
   "execution_count": 4,
   "metadata": {},
   "outputs": [],
   "source": [
    "for train_batch in train_dataloader:\n",
    "    for data in train_batch:\n",
    "        demo_seq_raw: DemoSequence = data['raw']\n",
    "        demo_seq: DemoSequence = data['processed']\n",
    "        break\n",
    "    break"
   ]
  },
  {
   "cell_type": "code",
   "execution_count": 5,
   "metadata": {},
   "outputs": [],
   "source": [
    "scene_raw1 = demo_seq_raw[1].scene_pc\n",
    "grasp_raw1 = demo_seq_raw[1].grasp_pc\n",
    "scene_proc1 = scene_proc_fn(scene_raw1)\n",
    "grasp_proc1 = grasp_proc_fn(grasp_raw1)"
   ]
  },
  {
   "cell_type": "code",
   "execution_count": 6,
   "metadata": {},
   "outputs": [],
   "source": [
    "device = 'cuda:0'\n",
    "# device = 'cpu'\n",
    "unit_len = 0.01\n",
    "\n",
    "load_transforms = Compose([Rescale(rescale_factor=1/unit_len),\n",
    "                          ])\n",
    "trainset = DemoSeqDataset(dataset_dir=\"demo/test_demo2\", annotation_file=\"data.yaml\", load_transforms = load_transforms, device=device)\n",
    "# train_dataloader = DataLoader(trainset, shuffle=False, collate_fn=lambda xs:{'processed': [x['processed'] for x in xs], 'raw': [x['raw'] for x in xs]}) \n",
    "train_dataloader = DataLoader(trainset, shuffle=False, collate_fn=lambda x:x)"
   ]
  },
  {
   "cell_type": "code",
   "execution_count": 7,
   "metadata": {},
   "outputs": [],
   "source": [
    "for train_batch in train_dataloader:\n",
    "    for data in train_batch:\n",
    "        demo_seq_raw: DemoSequence = data['raw']\n",
    "        demo_seq: DemoSequence = data['processed']\n",
    "        break\n",
    "    break"
   ]
  },
  {
   "cell_type": "code",
   "execution_count": 8,
   "metadata": {},
   "outputs": [],
   "source": [
    "scene_raw2 = demo_seq_raw[1].scene_pc\n",
    "grasp_raw2 = demo_seq_raw[1].grasp_pc\n",
    "scene_proc2 = scene_proc_fn(scene_raw2)\n",
    "grasp_proc2 = grasp_proc_fn(grasp_raw2)"
   ]
  },
  {
   "cell_type": "code",
   "execution_count": null,
   "metadata": {},
   "outputs": [],
   "source": []
  },
  {
   "cell_type": "code",
   "execution_count": null,
   "metadata": {},
   "outputs": [],
   "source": []
  },
  {
   "cell_type": "code",
   "execution_count": null,
   "metadata": {},
   "outputs": [],
   "source": []
  },
  {
   "cell_type": "code",
   "execution_count": 9,
   "metadata": {},
   "outputs": [],
   "source": []
  },
  {
   "cell_type": "code",
   "execution_count": null,
   "metadata": {},
   "outputs": [],
   "source": []
  },
  {
   "cell_type": "code",
   "execution_count": null,
   "metadata": {},
   "outputs": [],
   "source": []
  },
  {
   "cell_type": "code",
   "execution_count": null,
   "metadata": {},
   "outputs": [],
   "source": []
  },
  {
   "cell_type": "code",
   "execution_count": null,
   "metadata": {},
   "outputs": [],
   "source": []
  },
  {
   "cell_type": "code",
   "execution_count": 10,
   "metadata": {},
   "outputs": [],
   "source": [
    "place_agent_config_dir = \"config/agent_config/place_agent.yaml\"\n",
    "place_agent_param_dir = \"checkpoint/mug_10_demo/place/model_iter_600.pt\"\n",
    "max_N_query_place = 3\n",
    "langevin_dt_place = 0.001\n",
    "\n",
    "place_agent = PlaceAgent(config_dir=place_agent_config_dir, \n",
    "                       device = device,\n",
    "                       max_N_query = max_N_query_place, \n",
    "                       langevin_dt = langevin_dt_place)\n",
    "\n",
    "place_agent.load(place_agent_param_dir, strict=False)"
   ]
  },
  {
   "cell_type": "code",
   "execution_count": 12,
   "metadata": {},
   "outputs": [],
   "source": [
    "state_dict = torch.load(\"checkpoint/mug_10_demo/place/model_iter_600.pt\", map_location='cpu')"
   ]
  },
  {
   "cell_type": "code",
   "execution_count": 15,
   "metadata": {},
   "outputs": [],
   "source": [
    "current_dict = place_agent.query_model.state_dict()"
   ]
  },
  {
   "cell_type": "code",
   "execution_count": 35,
   "metadata": {},
   "outputs": [
    {
     "name": "stdout",
     "output_type": "stream",
     "text": [
      "No such key: weight_field.layernorm.scatter_index_elementwise\n",
      "No such key: weight_field.layernorm.scatter_index_irrepwise\n",
      "No such key: weight_field.layernorm.counts_elementwise\n",
      "No such key: weight_field.layernorm.counts_irrepwise\n",
      "No such key: weight_field.layernorm.counts_irrepwise_unbiased\n",
      "No such key: weight_field.layernorm.scalar_mask_elementwise\n",
      "No such key: feature_field.layernorm.scatter_index_elementwise\n",
      "No such key: feature_field.layernorm.scatter_index_irrepwise\n",
      "No such key: feature_field.layernorm.counts_elementwise\n",
      "No such key: feature_field.layernorm.counts_irrepwise\n",
      "No such key: feature_field.layernorm.counts_irrepwise_unbiased\n",
      "No such key: feature_field.layernorm.scalar_mask_elementwise\n"
     ]
    }
   ],
   "source": [
    "for k,v in state_dict['query_model_state_dict'].items():\n",
    "    try:\n",
    "        if not torch.allclose(current_dict[k].cpu(), v):\n",
    "            print(k)\n",
    "    except KeyError:\n",
    "        print(f\"No such key: {k}\")\n",
    "        v_ = place_agent.query_model\n",
    "        for attr in k.split('.'):\n",
    "            v_ = v_.__getattr__(attr)\n",
    "        if not torch.allclose(v_.cpu(), v):\n",
    "            print(k)"
   ]
  },
  {
   "cell_type": "code",
   "execution_count": 32,
   "metadata": {},
   "outputs": [],
   "source": [
    "\n"
   ]
  },
  {
   "cell_type": "code",
   "execution_count": 33,
   "metadata": {},
   "outputs": [
    {
     "data": {
      "text/plain": [
       "tensor([[0, 0, 0, 0, 0, 0, 0, 0, 0, 0]], device='cuda:0')"
      ]
     },
     "execution_count": 33,
     "metadata": {},
     "output_type": "execute_result"
    }
   ],
   "source": [
    "v"
   ]
  },
  {
   "cell_type": "code",
   "execution_count": null,
   "metadata": {},
   "outputs": [],
   "source": []
  },
  {
   "cell_type": "code",
   "execution_count": 26,
   "metadata": {},
   "outputs": [
    {
     "data": {
      "text/plain": [
       "TensorFieldLayerJIT(\n",
       "  (tp): FullyConnectedTensorProduct(10x0e+10x1e+4x2e+2x3e x 1x0e+1x1e+1x2e+1x3e -> 10x0e | 260 paths | 260 weights)\n",
       "  (fc): FullyConnectedNet[10, 16, 260]\n",
       "  (linear_out): LinearLayerJIT(\n",
       "    (layers): Sequential(\n",
       "      (0): Linear(10x0e -> 10x0e | 100 weights)\n",
       "    )\n",
       "  )\n",
       "  (layernorm): EquivLayerNormJIT()\n",
       ")"
      ]
     },
     "execution_count": 26,
     "metadata": {},
     "output_type": "execute_result"
    }
   ],
   "source": [
    "place_agent.query_model.__getattr__('weight_field')"
   ]
  },
  {
   "cell_type": "code",
   "execution_count": null,
   "metadata": {},
   "outputs": [],
   "source": []
  },
  {
   "cell_type": "code",
   "execution_count": null,
   "metadata": {},
   "outputs": [],
   "source": []
  },
  {
   "cell_type": "code",
   "execution_count": null,
   "metadata": {},
   "outputs": [],
   "source": []
  },
  {
   "cell_type": "code",
   "execution_count": null,
   "metadata": {},
   "outputs": [],
   "source": []
  },
  {
   "cell_type": "code",
   "execution_count": null,
   "metadata": {},
   "outputs": [],
   "source": []
  },
  {
   "cell_type": "code",
   "execution_count": null,
   "metadata": {},
   "outputs": [],
   "source": []
  },
  {
   "cell_type": "code",
   "execution_count": null,
   "metadata": {},
   "outputs": [],
   "source": []
  },
  {
   "cell_type": "code",
   "execution_count": null,
   "metadata": {},
   "outputs": [],
   "source": [
    "g1 = PointCloud(grasp_proc1.points, grasp_proc1.colors * 0 + torch.tensor([1.,0.,0.],device=device))\n",
    "g2 = PointCloud(grasp_proc2.points, grasp_proc2.colors * 0 + torch.tensor([0.,1.,0.],device=device))"
   ]
  },
  {
   "cell_type": "code",
   "execution_count": null,
   "metadata": {},
   "outputs": [],
   "source": [
    "draw_geometry([g1, g2])"
   ]
  },
  {
   "cell_type": "code",
   "execution_count": null,
   "metadata": {},
   "outputs": [],
   "source": [
    "s1 = PointCloud(scene_proc1.points + torch.tensor([0.,0.,0.01],device=device), scene_proc1.colors * 0 + torch.tensor([1.,0.,0.],device=device))\n",
    "s2 = PointCloud(scene_proc2.points, scene_proc2.colors * 0 + torch.tensor([0.,1.,0.],device=device))"
   ]
  },
  {
   "cell_type": "code",
   "execution_count": null,
   "metadata": {},
   "outputs": [],
   "source": [
    "draw_geometry([s1, s2])"
   ]
  },
  {
   "cell_type": "code",
   "execution_count": null,
   "metadata": {},
   "outputs": [],
   "source": [
    "def draw_points(points, colors='blue'):\n",
    "    if colors=='blue':\n",
    "        colors=[0.1, 0.7, 0.7]\n",
    "    else:\n",
    "        colors=[0.7, 0.1, 0.1]\n",
    "\n",
    "    points_visual = []\n",
    "    for query_point in points.cpu():\n",
    "        mesh_sphere = o3d.geometry.TriangleMesh.create_sphere(radius=0.5)\n",
    "        mesh_sphere.compute_vertex_normals()\n",
    "        mesh_sphere.paint_uniform_color(colors)\n",
    "        mesh_sphere.translate(query_point)\n",
    "        points_visual.append(mesh_sphere)\n",
    "    return points_visual"
   ]
  },
  {
   "cell_type": "code",
   "execution_count": null,
   "metadata": {},
   "outputs": [],
   "source": []
  },
  {
   "cell_type": "code",
   "execution_count": null,
   "metadata": {},
   "outputs": [],
   "source": []
  },
  {
   "cell_type": "code",
   "execution_count": null,
   "metadata": {},
   "outputs": [],
   "source": []
  },
  {
   "cell_type": "code",
   "execution_count": null,
   "metadata": {},
   "outputs": [],
   "source": []
  },
  {
   "cell_type": "code",
   "execution_count": null,
   "metadata": {},
   "outputs": [],
   "source": []
  },
  {
   "cell_type": "code",
   "execution_count": null,
   "metadata": {},
   "outputs": [],
   "source": [
    "T_seed = 100\n",
    "place_policy = 'sorted'\n",
    "place_mh_iter = 1000\n",
    "place_langevin_iter = 300\n",
    "place_dist_temp = 1.\n",
    "place_policy_temp = 1.\n",
    "place_optim_iter = 100\n",
    "place_optim_lr = 0.005\n",
    "place_query_temp = 1."
   ]
  },
  {
   "cell_type": "code",
   "execution_count": null,
   "metadata": {},
   "outputs": [],
   "source": [
    "stein_iter = 100\n",
    "stein_lr = 1e-1"
   ]
  },
  {
   "attachments": {},
   "cell_type": "markdown",
   "metadata": {},
   "source": [
    "# Proc 1"
   ]
  },
  {
   "cell_type": "code",
   "execution_count": null,
   "metadata": {},
   "outputs": [],
   "source": [
    "Ts1, edf_outputs1, logs1 = place_agent.forward(scene=scene_proc1, T_seed=T_seed, grasp=grasp_proc1, policy = place_policy, mh_iter=place_mh_iter, langevin_iter=place_langevin_iter, \n",
    "                                            temperature=place_dist_temp, policy_temperature=place_policy_temp, optim_iter=place_optim_iter, optim_lr=place_optim_lr, query_temperature=place_query_temp)"
   ]
  },
  {
   "cell_type": "code",
   "execution_count": null,
   "metadata": {},
   "outputs": [],
   "source": [
    "edf_outputs1['query_points']"
   ]
  },
  {
   "cell_type": "code",
   "execution_count": null,
   "metadata": {},
   "outputs": [],
   "source": [
    "draw_geometry([scene_proc1] + [grasp_proc1.transformed(Ts1[0].to(device))])"
   ]
  },
  {
   "cell_type": "code",
   "execution_count": null,
   "metadata": {},
   "outputs": [],
   "source": [
    "inputs_Q1 = {\"feature\": grasp_proc1.colors, \"pos\": grasp_proc1.points}"
   ]
  },
  {
   "cell_type": "code",
   "execution_count": null,
   "metadata": {},
   "outputs": [],
   "source": [
    "place_agent.query_model.get_query(inputs=inputs_Q1, temperature=1., requires_grad=False)"
   ]
  },
  {
   "cell_type": "code",
   "execution_count": null,
   "metadata": {},
   "outputs": [],
   "source": []
  },
  {
   "cell_type": "code",
   "execution_count": null,
   "metadata": {},
   "outputs": [],
   "source": [
    "from torch_cluster import radius_graph\n",
    "temperature = 1.\n",
    "\n",
    "with torch.no_grad():\n",
    "    outputs1 = place_agent.query_model.se3T(inputs_Q1)\n",
    "    feature_se3T1, pos1 = outputs1['feature'].detach(), outputs1['pos'].detach()\n",
    "num_nodes1 = pos1.shape[-2]\n",
    "max_num_neighbors1 = num_nodes1 -1\n",
    "edge_src1, edge_dst1 = radius_graph(pos1.detach(), place_agent.query_model.query_radius, max_num_neighbors = max_num_neighbors1, loop = False)\n",
    "edge1 = (edge_src1, edge_dst1)\n",
    "\n",
    "with torch.no_grad():\n",
    "    pos_weight_logit1 = place_agent.query_model.get_weight(feature=feature_se3T1.detach(), pos=pos1.detach(), query_points = pos1.detach().unsqueeze(0), temperature = temperature).squeeze(0).squeeze(-1)\n",
    "    query_points_init1 = place_agent.query_model.get_init_query_pos(pos = pos1.detach(), edge = edge1, weight_logit = pos_weight_logit1.detach()) # (N_query, 3)"
   ]
  },
  {
   "cell_type": "code",
   "execution_count": null,
   "metadata": {},
   "outputs": [],
   "source": [
    "draw_geometry([grasp_proc1] + draw_points(query_points_init1))"
   ]
  },
  {
   "cell_type": "code",
   "execution_count": null,
   "metadata": {},
   "outputs": [],
   "source": [
    "draw_geometry([grasp_proc1] + draw_points(query_points_init1[:2]))"
   ]
  },
  {
   "cell_type": "code",
   "execution_count": null,
   "metadata": {},
   "outputs": [],
   "source": [
    "with torch.no_grad():\n",
    "    log_P1 = lambda x: place_agent.query_model.get_weight(feature=feature_se3T1, pos=pos1, query_points = x.unsqueeze(0), temperature = temperature).squeeze(0).squeeze(-1) # (N_query)\n",
    "    #log_P = lambda x: self.get_weight(feature=feature_se3T, pos=pos, query_points = x.unsqueeze(0), temperature = temperature).squeeze(0).squeeze(-1) - x.norm(dim=-1)*4  # Debug\n",
    "query_points1 = place_agent.query_model.stein_vgd(x=query_points_init1.detach(), log_P = log_P1, iters=stein_iter, lr = stein_lr) # (N_query, 3)"
   ]
  },
  {
   "cell_type": "code",
   "execution_count": null,
   "metadata": {},
   "outputs": [],
   "source": [
    "draw_geometry([grasp_proc1] + draw_points(query_points1) + draw_points(query_points_init1, 'red'))"
   ]
  },
  {
   "cell_type": "code",
   "execution_count": null,
   "metadata": {},
   "outputs": [],
   "source": [
    "query_feature1 = place_agent.query_model.get_feature(feature=feature_se3T1, pos=pos1, query_points = query_points1.unsqueeze(0)).squeeze(0) # (N_query, f)\n",
    "query_attention1 = place_agent.query_model.get_weight(feature=feature_se3T1, pos=pos1, query_points = query_points1.unsqueeze(0), temperature = temperature).squeeze(0) # (N_query, 1)"
   ]
  },
  {
   "cell_type": "code",
   "execution_count": null,
   "metadata": {},
   "outputs": [],
   "source": [
    "query_points1[query_attention1[:,0].argsort(descending=True)[:5]]"
   ]
  },
  {
   "cell_type": "code",
   "execution_count": null,
   "metadata": {},
   "outputs": [],
   "source": [
    "draw_geometry([grasp_proc1] + draw_points(query_points1[query_attention1[:,0].argsort(descending=True)[:5]]))"
   ]
  },
  {
   "cell_type": "code",
   "execution_count": null,
   "metadata": {},
   "outputs": [],
   "source": []
  },
  {
   "cell_type": "code",
   "execution_count": null,
   "metadata": {},
   "outputs": [],
   "source": []
  },
  {
   "cell_type": "code",
   "execution_count": null,
   "metadata": {},
   "outputs": [],
   "source": []
  },
  {
   "cell_type": "code",
   "execution_count": null,
   "metadata": {},
   "outputs": [],
   "source": []
  },
  {
   "attachments": {},
   "cell_type": "markdown",
   "metadata": {},
   "source": [
    "# Proc 2"
   ]
  },
  {
   "cell_type": "code",
   "execution_count": null,
   "metadata": {},
   "outputs": [],
   "source": []
  },
  {
   "cell_type": "code",
   "execution_count": null,
   "metadata": {},
   "outputs": [],
   "source": [
    "Ts2, edf_outputs2, logs2 = place_agent.forward(scene=scene_proc2, T_seed=T_seed, grasp=grasp_proc2, policy = place_policy, mh_iter=place_mh_iter, langevin_iter=place_langevin_iter, \n",
    "                                            temperature=place_dist_temp, policy_temperature=place_policy_temp, optim_iter=place_optim_iter, optim_lr=place_optim_lr, query_temperature=place_query_temp)"
   ]
  },
  {
   "cell_type": "code",
   "execution_count": null,
   "metadata": {},
   "outputs": [],
   "source": [
    "draw_geometry([scene_proc2] + [grasp_proc2.transformed(Ts2[0].to(device))])"
   ]
  },
  {
   "cell_type": "code",
   "execution_count": null,
   "metadata": {},
   "outputs": [],
   "source": [
    "edf_outputs2['query_points']"
   ]
  },
  {
   "cell_type": "code",
   "execution_count": null,
   "metadata": {},
   "outputs": [],
   "source": [
    "inputs_Q2 = {\"feature\": grasp_proc2.colors, \"pos\": grasp_proc2.points}"
   ]
  },
  {
   "cell_type": "code",
   "execution_count": null,
   "metadata": {},
   "outputs": [],
   "source": [
    "place_agent.query_model.get_query(inputs=inputs_Q2, temperature=1., requires_grad=False)"
   ]
  },
  {
   "cell_type": "code",
   "execution_count": null,
   "metadata": {},
   "outputs": [],
   "source": []
  },
  {
   "cell_type": "code",
   "execution_count": null,
   "metadata": {},
   "outputs": [],
   "source": [
    "from torch_cluster import radius_graph\n",
    "temperature = 1.\n",
    "\n",
    "with torch.no_grad():\n",
    "    outputs2 = place_agent.query_model.se3T(inputs_Q2)\n",
    "    feature_se3T2, pos2 = outputs2['feature'].detach(), outputs2['pos'].detach()\n",
    "num_nodes2 = pos2.shape[-2]\n",
    "max_num_neighbors2 = num_nodes2 -1\n",
    "edge_src2, edge_dst2 = radius_graph(pos2.detach(), place_agent.query_model.query_radius, max_num_neighbors = max_num_neighbors2, loop = False)\n",
    "edge2 = (edge_src2, edge_dst2)\n",
    "\n",
    "with torch.no_grad():\n",
    "    pos_weight_logit2 = place_agent.query_model.get_weight(feature=feature_se3T2.detach(), pos=pos2.detach(), query_points = pos2.detach().unsqueeze(0), temperature = temperature).squeeze(0).squeeze(-1)\n",
    "    query_points_init2 = place_agent.query_model.get_init_query_pos(pos = pos2.detach(), edge = edge2, weight_logit = pos_weight_logit2.detach()) # (N_query, 3)"
   ]
  },
  {
   "cell_type": "code",
   "execution_count": null,
   "metadata": {},
   "outputs": [],
   "source": [
    "draw_geometry([grasp_proc2] + draw_points(query_points_init2[:5]))"
   ]
  },
  {
   "cell_type": "code",
   "execution_count": null,
   "metadata": {},
   "outputs": [],
   "source": [
    "with torch.no_grad():\n",
    "    log_P2 = lambda x: place_agent.query_model.get_weight(feature=feature_se3T2, pos=pos2, query_points = x.unsqueeze(0), temperature = temperature).squeeze(0).squeeze(-1) # (N_query)\n",
    "    #log_P = lambda x: self.get_weight(feature=feature_se3T, pos=pos, query_points = x.unsqueeze(0), temperature = temperature).squeeze(0).squeeze(-1) - x.norm(dim=-1)*4  # Debug\n",
    "query_points2 = place_agent.query_model.stein_vgd(x=query_points_init2.detach(), log_P = log_P2, iters=stein_iter, lr = stein_lr) # (N_query, 3)"
   ]
  },
  {
   "cell_type": "code",
   "execution_count": null,
   "metadata": {},
   "outputs": [],
   "source": [
    "draw_geometry([grasp_proc2] + draw_points(query_points2) + draw_points(query_points_init2, 'red'))"
   ]
  },
  {
   "cell_type": "code",
   "execution_count": null,
   "metadata": {},
   "outputs": [],
   "source": [
    "query_feature2 = place_agent.query_model.get_feature(feature=feature_se3T2, pos=pos2, query_points = query_points2.unsqueeze(0)).squeeze(0) # (N_query, f)\n",
    "query_attention2 = place_agent.query_model.get_weight(feature=feature_se3T2, pos=pos2, query_points = query_points2.unsqueeze(0), temperature = temperature).squeeze(0) # (N_query, 1)"
   ]
  },
  {
   "cell_type": "code",
   "execution_count": null,
   "metadata": {},
   "outputs": [],
   "source": [
    "draw_geometry([grasp_proc2] + draw_points(query_points2[query_attention2[:,0].argsort(descending=True)[:5]]))"
   ]
  },
  {
   "cell_type": "code",
   "execution_count": null,
   "metadata": {},
   "outputs": [],
   "source": []
  },
  {
   "cell_type": "code",
   "execution_count": null,
   "metadata": {},
   "outputs": [],
   "source": []
  },
  {
   "cell_type": "code",
   "execution_count": null,
   "metadata": {},
   "outputs": [],
   "source": [
    "import torch.nn.functional as F\n",
    "\n",
    "\n",
    "query_attention = F.softmax(query_attention.squeeze(-1), dim=-1) # (N_query,)\n",
    "assert query_attention.dim() == 1\n",
    "sorted_idx = query_attention.argsort(descending=True)\n",
    "if self.max_N_query is not None:\n",
    "    sorted_idx = sorted_idx[:self.max_N_query]\n",
    "query_attention = query_attention[sorted_idx]\n",
    "query_feature = query_feature[sorted_idx]\n",
    "query_points = query_points[sorted_idx]\n",
    "if self.max_N_query is not None:\n",
    "    query_attention = query_attention / query_attention.sum() # renormalize"
   ]
  },
  {
   "cell_type": "code",
   "execution_count": null,
   "metadata": {},
   "outputs": [],
   "source": []
  },
  {
   "cell_type": "code",
   "execution_count": null,
   "metadata": {},
   "outputs": [],
   "source": []
  },
  {
   "cell_type": "code",
   "execution_count": null,
   "metadata": {},
   "outputs": [],
   "source": []
  },
  {
   "cell_type": "code",
   "execution_count": null,
   "metadata": {},
   "outputs": [],
   "source": []
  },
  {
   "cell_type": "code",
   "execution_count": null,
   "metadata": {},
   "outputs": [],
   "source": []
  },
  {
   "cell_type": "code",
   "execution_count": null,
   "metadata": {},
   "outputs": [],
   "source": [
    "draw_geometry([grasp_proc1])"
   ]
  },
  {
   "cell_type": "code",
   "execution_count": null,
   "metadata": {},
   "outputs": [],
   "source": [
    "grasps = grasp_raw.transformed(Ts[1].to(device))"
   ]
  },
  {
   "cell_type": "code",
   "execution_count": null,
   "metadata": {},
   "outputs": [],
   "source": [
    "draw_geometry([scene_proc] + [grasps])"
   ]
  },
  {
   "cell_type": "code",
   "execution_count": null,
   "metadata": {},
   "outputs": [],
   "source": [
    "grasp_raw.points.min(dim=0).values"
   ]
  },
  {
   "cell_type": "code",
   "execution_count": null,
   "metadata": {},
   "outputs": [],
   "source": [
    "grasp_raw.points.max(dim=0).values"
   ]
  }
 ],
 "metadata": {
  "kernelspec": {
   "display_name": "Python 3 (ipykernel)",
   "language": "python",
   "name": "python3"
  },
  "language_info": {
   "codemirror_mode": {
    "name": "ipython",
    "version": 3
   },
   "file_extension": ".py",
   "mimetype": "text/x-python",
   "name": "python",
   "nbconvert_exporter": "python",
   "pygments_lexer": "ipython3",
   "version": "3.8.16"
  },
  "vscode": {
   "interpreter": {
    "hash": "af6666271aa88010cf2cfaabf400b3e4725e891d1262c16234a99fd43f726498"
   }
  }
 },
 "nbformat": 4,
 "nbformat_minor": 2
}
