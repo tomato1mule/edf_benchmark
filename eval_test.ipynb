{
 "cells": [
  {
   "cell_type": "code",
   "execution_count": 1,
   "metadata": {},
   "outputs": [
    {
     "name": "stdout",
     "output_type": "stream",
     "text": [
      "Jupyter environment detected. Enabling Open3D WebVisualizer.\n",
      "[Open3D INFO] WebRTC GUI backend enabled.\n",
      "[Open3D INFO] WebRTCWindowSystem: HTTP handshake server disabled.\n"
     ]
    }
   ],
   "source": [
    "from edf.pc_utils import draw_geometry, voxel_filter\n",
    "from edf.data import PointCloud, SE3, PickDemo, PlaceDemo, PickAndPlaceDemo, PickAndPlaceDataset\n",
    "from edf.preprocess import Rescale, NormalizeColor, Downsample\n",
    "from edf.agent import PickAgent\n",
    "\n",
    "import numpy as np\n",
    "import yaml\n",
    "import plotly as pl\n",
    "import plotly.express as ple\n",
    "import open3d as o3d\n",
    "\n",
    "import torch\n",
    "from torch.utils.data import DataLoader\n",
    "from torchvision.transforms import Compose"
   ]
  },
  {
   "cell_type": "code",
   "execution_count": 2,
   "metadata": {},
   "outputs": [],
   "source": [
    "device = 'cuda:0'\n",
    "# device = 'cpu'\n",
    "unit_len = 0.01"
   ]
  },
  {
   "cell_type": "code",
   "execution_count": 3,
   "metadata": {},
   "outputs": [],
   "source": [
    "pick_agent_config_dir = \"config/agent_config/pick_agent.yaml\"\n",
    "max_N_query_pick = 1\n",
    "langevin_dt_pick = 0.001\n",
    "\n",
    "\n",
    "pick_agent = PickAgent(config_dir=pick_agent_config_dir, \n",
    "                       device = device,\n",
    "                       max_N_query = max_N_query_pick, \n",
    "                       langevin_dt = langevin_dt_pick)"
   ]
  },
  {
   "cell_type": "code",
   "execution_count": 4,
   "metadata": {},
   "outputs": [],
   "source": [
    "transforms = Compose([Downsample(voxel_size=unit_len * 1.0, coord_reduction=\"average\"),\n",
    "                      Rescale(rescale_factor=1/unit_len),\n",
    "                      NormalizeColor(color_mean = torch.tensor([0.5, 0.5, 0.5]), color_std = torch.tensor([0.5, 0.5, 0.5])),\n",
    "                      ])\n",
    "trainset = PickAndPlaceDataset(dataset_dir=\"demo/test_demo\", dataset_name=\"train\", transforms=transforms, device=device)\n",
    "train_dataloader = DataLoader(trainset, shuffle=False, collate_fn=lambda x:x)"
   ]
  },
  {
   "cell_type": "code",
   "execution_count": 5,
   "metadata": {},
   "outputs": [],
   "source": [
    "demo = next(iter(train_dataloader))[0]"
   ]
  },
  {
   "cell_type": "code",
   "execution_count": 6,
   "metadata": {},
   "outputs": [
    {
     "data": {
      "text/plain": [
       "tensor([ 9.6347, 29.5414, 49.4110], device='cuda:0')"
      ]
     },
     "execution_count": 6,
     "metadata": {},
     "output_type": "execute_result"
    }
   ],
   "source": [
    "demo.pick_demo.scene_pc.points.max(dim=0).values"
   ]
  },
  {
   "cell_type": "code",
   "execution_count": 7,
   "metadata": {},
   "outputs": [
    {
     "data": {
      "text/plain": [
       "tensor([-49.4785, -29.5414,  34.5485], device='cuda:0')"
      ]
     },
     "execution_count": 7,
     "metadata": {},
     "output_type": "execute_result"
    }
   ],
   "source": [
    "demo.pick_demo.scene_pc.points.min(dim=0).values"
   ]
  },
  {
   "cell_type": "code",
   "execution_count": null,
   "metadata": {},
   "outputs": [],
   "source": [
    "T_seed = 100\n",
    "pick_policy = 'sorted'\n",
    "pick_mh_iter = 1000\n",
    "pick_langevin_iter = 300\n",
    "pick_dist_temp = 1.\n",
    "pick_policy_temp = 1.\n",
    "pick_optim_iter = 100\n",
    "pick_optim_lr = 0.005"
   ]
  },
  {
   "cell_type": "code",
   "execution_count": null,
   "metadata": {},
   "outputs": [],
   "source": [
    "Ts, edf_outputs, logs = pick_agent.forward(pc=demo.pick_demo.scene_pc, T_seed=T_seed, policy = pick_policy, mh_iter=pick_mh_iter, langevin_iter=pick_langevin_iter, \n",
    "                                            temperature=pick_dist_temp, policy_temperature=pick_policy_temp, optim_iter=pick_optim_iter, optim_lr=pick_optim_lr)"
   ]
  },
  {
   "cell_type": "code",
   "execution_count": null,
   "metadata": {},
   "outputs": [],
   "source": []
  },
  {
   "cell_type": "code",
   "execution_count": null,
   "metadata": {},
   "outputs": [],
   "source": [
    "# draw_geometry(pc.to_pcd())\n",
    "draw_geometry(train_demo.pick_demo.scene_pc.to_pcd())"
   ]
  },
  {
   "cell_type": "code",
   "execution_count": null,
   "metadata": {},
   "outputs": [],
   "source": []
  }
 ],
 "metadata": {
  "kernelspec": {
   "display_name": "Python 3 (ipykernel)",
   "language": "python",
   "name": "python3"
  },
  "language_info": {
   "codemirror_mode": {
    "name": "ipython",
    "version": 3
   },
   "file_extension": ".py",
   "mimetype": "text/x-python",
   "name": "python",
   "nbconvert_exporter": "python",
   "pygments_lexer": "ipython3",
   "version": "3.8.16"
  },
  "vscode": {
   "interpreter": {
    "hash": "af6666271aa88010cf2cfaabf400b3e4725e891d1262c16234a99fd43f726498"
   }
  }
 },
 "nbformat": 4,
 "nbformat_minor": 2
}
