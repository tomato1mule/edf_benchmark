{
 "cells": [
  {
   "cell_type": "code",
   "execution_count": null,
   "metadata": {},
   "outputs": [],
   "source": [
    "#%load_ext nb_mypy"
   ]
  },
  {
   "cell_type": "code",
   "execution_count": null,
   "metadata": {},
   "outputs": [],
   "source": [
    "import sys, os\n",
    "\n",
    "import pybullet as p\n",
    "\n",
    "import edf_env\n",
    "from edf_env.env import UR5Env\n",
    "from edf_env.pybullet_pc_utils import pb_cams_to_pc\n",
    "from edf_env.pc_utils import pcd_from_numpy, draw_geometry\n",
    "from edf_env.utils import pb_draw_axis\n",
    "\n",
    "import numpy as np\n",
    "import yaml\n",
    "import plotly as pl\n",
    "import plotly.express as ple\n",
    "import open3d as o3d"
   ]
  },
  {
   "cell_type": "code",
   "execution_count": null,
   "metadata": {},
   "outputs": [],
   "source": [
    "env = UR5Env(use_gui=True, debug=True)\n",
    "pos, orn = env.get_link_pose(link_id=env.end_effector_link_id)\n",
    "# pos, orn = env.get_link_pose(link_id=env.robot_joint_dict['left_finger_z_joint_fake'])\n",
    "pb_draw_axis(pos=pos, orn=orn, orn_format='quat')"
   ]
  },
  {
   "cell_type": "code",
   "execution_count": null,
   "metadata": {},
   "outputs": [],
   "source": [
    "print(env._get_joint_state(joint_id=env.robot_joint_dict['finger_joint'])[0],\n",
    "env._get_joint_state(joint_id=env.robot_joint_dict['left_inner_knuckle_joint'])[0],\n",
    "env._get_joint_state(joint_id=env.robot_joint_dict['left_inner_finger_joint'])[0],)"
   ]
  },
  {
   "cell_type": "code",
   "execution_count": null,
   "metadata": {},
   "outputs": [],
   "source": [
    "print(env._get_joint_state(joint_id=env.robot_joint_dict['right_outer_knuckle_joint'])[0],\n",
    "env._get_joint_state(joint_id=env.robot_joint_dict['right_inner_knuckle_joint'])[0],\n",
    "env._get_joint_state(joint_id=env.robot_joint_dict['right_inner_finger_joint'])[0],)"
   ]
  },
  {
   "cell_type": "code",
   "execution_count": null,
   "metadata": {},
   "outputs": [],
   "source": [
    "env.grasp(0.7)"
   ]
  },
  {
   "cell_type": "code",
   "execution_count": null,
   "metadata": {},
   "outputs": [],
   "source": [
    "env.grasp(0.0)"
   ]
  },
  {
   "cell_type": "code",
   "execution_count": null,
   "metadata": {},
   "outputs": [],
   "source": [
    "pos, orn = env.get_link_pose(link_id=env.robot_joint_dict['finger_z_joint_fake'])\n",
    "pb_draw_axis(pos=pos, orn=orn, orn_format='quat')"
   ]
  },
  {
   "cell_type": "code",
   "execution_count": null,
   "metadata": {},
   "outputs": [],
   "source": [
    "pc_coord, pc_color, pc_seg, cam_data_list = env.observe_ee()\n",
    "pcd = pcd_from_numpy(coord=pc_coord, color=pc_color, voxel_filter_size = 0.003)\n",
    "draw_geometry(pcd)"
   ]
  },
  {
   "cell_type": "code",
   "execution_count": null,
   "metadata": {},
   "outputs": [],
   "source": [
    "pc_coord, pc_color, pc_seg, cam_data_list = env.observe_scene()\n",
    "pcd = pcd_from_numpy(coord=pc_coord, color=pc_color, voxel_filter_size = 0.003)\n",
    "draw_geometry(pcd)"
   ]
  }
 ],
 "metadata": {
  "kernelspec": {
   "display_name": "Python 3.9.15 ('edf_env')",
   "language": "python",
   "name": "python3"
  },
  "language_info": {
   "codemirror_mode": {
    "name": "ipython",
    "version": 3
   },
   "file_extension": ".py",
   "mimetype": "text/x-python",
   "name": "python",
   "nbconvert_exporter": "python",
   "pygments_lexer": "ipython3",
   "version": "3.8.16 (default, Jan 17 2023, 23:13:24) \n[GCC 11.2.0]"
  },
  "orig_nbformat": 4,
  "vscode": {
   "interpreter": {
    "hash": "af6666271aa88010cf2cfaabf400b3e4725e891d1262c16234a99fd43f726498"
   }
  }
 },
 "nbformat": 4,
 "nbformat_minor": 2
}
