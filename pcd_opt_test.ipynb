{
 "cells": [
  {
   "cell_type": "code",
   "execution_count": null,
   "metadata": {},
   "outputs": [],
   "source": [
    "from edf.pc_utils import draw_geometry, check_pcd_collision, pcd_energy, optimize_pcd_collision\n",
    "from edf.data import PointCloud, SE3, TargetPoseDemo, DemoSequence, load_demos\n",
    "\n",
    "import numpy as np\n",
    "import yaml\n",
    "import plotly as pl\n",
    "import plotly.express as ple\n",
    "import open3d as o3d"
   ]
  },
  {
   "cell_type": "code",
   "execution_count": null,
   "metadata": {},
   "outputs": [],
   "source": [
    "import torch\n",
    "import torch.nn.functional as F\n",
    "torch.set_printoptions(precision=3, sci_mode=False)"
   ]
  },
  {
   "cell_type": "code",
   "execution_count": null,
   "metadata": {},
   "outputs": [],
   "source": [
    "demos  = load_demos(\"demo/test_demo/\")\n",
    "demo_seq: DemoSequence = demos[0]"
   ]
  },
  {
   "cell_type": "code",
   "execution_count": null,
   "metadata": {},
   "outputs": [],
   "source": [
    "scene_pc: PointCloud = demo_seq[1].scene_pc\n",
    "grasp_pc: PointCloud = demo_seq[1].grasp_pc\n",
    "target_poses: SE3 = demo_seq[1].target_poses\n",
    "target_poses.poses[0,-1] = 0.30\n",
    "grasp_pc = grasp_pc.transformed(target_poses)[0]"
   ]
  },
  {
   "cell_type": "code",
   "execution_count": null,
   "metadata": {},
   "outputs": [],
   "source": [
    "grasp_pc, Ts = optimize_pcd_collision(x=scene_pc, y=grasp_pc, cutoff_r = 0.03, dt=0.01, eps=1., iters=5)"
   ]
  }
 ],
 "metadata": {
  "kernelspec": {
   "display_name": "Python 3 (ipykernel)",
   "language": "python",
   "name": "python3"
  },
  "language_info": {
   "codemirror_mode": {
    "name": "ipython",
    "version": 3
   },
   "file_extension": ".py",
   "mimetype": "text/x-python",
   "name": "python",
   "nbconvert_exporter": "python",
   "pygments_lexer": "ipython3",
   "version": "3.8.16"
  },
  "vscode": {
   "interpreter": {
    "hash": "af6666271aa88010cf2cfaabf400b3e4725e891d1262c16234a99fd43f726498"
   }
  }
 },
 "nbformat": 4,
 "nbformat_minor": 2
}
