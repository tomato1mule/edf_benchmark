{
 "cells": [
  {
   "cell_type": "code",
   "execution_count": 1,
   "metadata": {},
   "outputs": [
    {
     "name": "stdout",
     "output_type": "stream",
     "text": [
      "Jupyter environment detected. Enabling Open3D WebVisualizer.\n",
      "[Open3D INFO] WebRTC GUI backend enabled.\n",
      "[Open3D INFO] WebRTCWindowSystem: HTTP handshake server disabled.\n"
     ]
    }
   ],
   "source": [
    "from ros_edf.ros_interface import EdfRosInterface\n",
    "from ros_edf.pc_utils import pcd_from_numpy, draw_geometry, reconstruct_surface\n",
    "from edf.data import PointCloud, SE3, TargetPoseDemo, DemoSequence, save_demos\n",
    "from edf.pc_utils import check_pcd_collision, optimize_pcd_collision\n",
    "\n",
    "import torch\n",
    "import numpy as np\n",
    "import yaml\n",
    "import plotly as pl\n",
    "import plotly.express as ple\n",
    "import open3d as o3d"
   ]
  },
  {
   "cell_type": "code",
   "execution_count": 2,
   "metadata": {},
   "outputs": [],
   "source": [
    "def move_simple(target_poses: SE3, env_interface: EdfRosInterface) -> str:\n",
    "\n",
    "    ###### Plan ######\n",
    "    plan_targets = [(target_pose, \"default\", {}) for target_pose in target_poses]\n",
    "                   \n",
    "    plan_results, plans = env_interface.move_plans(targets=plan_targets)\n",
    "    plan_success = plan_results[-1]\n",
    "    if not plan_success:\n",
    "        return 'PLAN_FAIL'\n",
    "    \n",
    "    ###### Execution ###### \n",
    "    execution_results = env_interface.execute_plans(plans)\n",
    "    execution_success = execution_results[-1]\n",
    "    if not execution_success:\n",
    "        return 'EXECUTION_FAIL'\n",
    "    \n",
    "    return 'SUCCESS'\n",
    "\n",
    "\n",
    "\n",
    "def pick(pre_pick_pose: SE3, pick_pose: SE3, post_pick_pose: SE3, env_interface: EdfRosInterface) -> str:\n",
    "\n",
    "    env_interface.release()\n",
    "\n",
    "    ###### Pre-pick Plan ######\n",
    "    plan_targets = [(pre_pick_pose, \"default\", {}),\n",
    "                    (pick_pose, \"cartesian\", {'cartesian_step': 0.01, 'cspace_step_thr': 10., 'avoid_collision': False, 'success_fraction': 0.95}),\n",
    "                   ]\n",
    "    plan_results, plans = env_interface.move_plans(targets=plan_targets)\n",
    "    plan_success = plan_results[-1]\n",
    "    if not plan_success:\n",
    "        return 'PRE_PICK_PLAN_FAIL'\n",
    "\n",
    "\n",
    "\n",
    "    ###### Pre-pick Execution ######\n",
    "    execution_results = env_interface.execute_plans(plans)\n",
    "    execution_success = execution_results[-1]\n",
    "    if not execution_success:\n",
    "        return 'PRE_PICK_EXECUTION_FAIL'\n",
    "\n",
    "\n",
    "    ###### Grasp ######\n",
    "    grasp_result = env_interface.grasp()\n",
    "    if not grasp_result:\n",
    "        return 'GRASP_FAIL'\n",
    "\n",
    "\n",
    "    ###### Post-pick Plan ######\n",
    "    plan_targets = [(post_pick_pose, \"cartesian\", {'cartesian_step': 0.01, 'cspace_step_thr': 10., 'avoid_collision': False, 'success_fraction': 0.95}),\n",
    "                    ]\n",
    "    plan_results, plans = env_interface.move_plans(targets=plan_targets)\n",
    "    plan_success = plan_results[-1]\n",
    "    if not plan_success:\n",
    "        return 'POST_PICK_PLAN_FAIL'\n",
    "    \n",
    "\n",
    "    ###### Post-pick Execution ######\n",
    "    execution_results = env_interface.execute_plans(plans)\n",
    "    execution_success = execution_results[-1]\n",
    "    if not execution_success:\n",
    "        return 'POST_PICK_EXECUTION_FAIL'\n",
    "    \n",
    "    return 'SUCCESS'\n",
    "    \n",
    "def place(pre_place_pose: SE3, place_pose: SE3, post_place_pose: SE3, env_interface: EdfRosInterface) -> str:\n",
    "\n",
    "    ###### Pre-place Plan ######\n",
    "    plan_targets = [(pre_place_pose, \"default\", {}),\n",
    "                    (place_pose, \"cartesian\", {'cartesian_step': 0.01, 'cspace_step_thr': 10., 'avoid_collision': False, 'success_fraction': 0.95}),\n",
    "                   ]\n",
    "    plan_results, plans = env_interface.move_plans(targets=plan_targets)\n",
    "    plan_success = plan_results[-1]\n",
    "    if not plan_success:\n",
    "        return 'PRE_PLACE_PLAN_FAIL'\n",
    "\n",
    "    ###### Pre-place Execution ######\n",
    "    execution_results = env_interface.execute_plans(plans)\n",
    "    execution_success = execution_results[-1]\n",
    "    if not execution_success:\n",
    "        return 'PRE_PLACE_EXECUTION_FAIL'\n",
    "\n",
    "\n",
    "\n",
    "\n",
    "    ###### Release ######\n",
    "    env_interface.detach()\n",
    "    release_result = env_interface.release()\n",
    "    if not release_result:\n",
    "        return 'RELEASE_FAIL'\n",
    "\n",
    "\n",
    "\n",
    "\n",
    "    ###### Post-place Plan ######\n",
    "    plan_targets = [(post_place_pose, \"cartesian\", {'cartesian_step': 0.01, 'cspace_step_thr': 10., 'avoid_collision': False, 'success_fraction': 0.95}),\n",
    "                   ]\n",
    "    plan_results, plans = env_interface.move_plans(targets=plan_targets)\n",
    "    plan_success = plan_results[-1]\n",
    "    if not plan_success:\n",
    "        return 'POST_PLACE_PLAN_FAIL'\n",
    "    \n",
    "    ###### Post-place Execution ######\n",
    "    execution_results = env_interface.execute_plans(plans)\n",
    "    execution_success = execution_results[-1]\n",
    "    if not execution_success:\n",
    "        return 'POST_PLACE_EXECUTION_FAIL'\n",
    "    \n",
    "    return 'SUCCESS'"
   ]
  },
  {
   "cell_type": "markdown",
   "metadata": {},
   "source": [
    "### Initialize EDF ROS Interface"
   ]
  },
  {
   "cell_type": "code",
   "execution_count": 3,
   "metadata": {},
   "outputs": [
    {
     "name": "stderr",
     "output_type": "stream",
     "text": [
      "\u001b[33m[ WARN] [1676289490.895626488]: Link axle_link has visual geometry but no collision geometry. Collision geometry will be left empty. Fix your URDF file by explicitly specifying collision geometry.\u001b[0m\n",
      "\u001b[33m[ WARN] [1676289490.895641839]: Link front_rocker_link has visual geometry but no collision geometry. Collision geometry will be left empty. Fix your URDF file by explicitly specifying collision geometry.\u001b[0m\n",
      "\u001b[33m[ WARN] [1676289490.895653548]: Link rear_rocker_link has visual geometry but no collision geometry. Collision geometry will be left empty. Fix your URDF file by explicitly specifying collision geometry.\u001b[0m\n",
      "\u001b[33m[ WARN] [1676289490.895663526]: Link front_cover_link has visual geometry but no collision geometry. Collision geometry will be left empty. Fix your URDF file by explicitly specifying collision geometry.\u001b[0m\n",
      "\u001b[33m[ WARN] [1676289490.895668953]: Link front_lights_link has visual geometry but no collision geometry. Collision geometry will be left empty. Fix your URDF file by explicitly specifying collision geometry.\u001b[0m\n",
      "\u001b[33m[ WARN] [1676289490.895675231]: Link left_side_cover_link has visual geometry but no collision geometry. Collision geometry will be left empty. Fix your URDF file by explicitly specifying collision geometry.\u001b[0m\n",
      "\u001b[33m[ WARN] [1676289490.895682443]: Link rear_cover_link has visual geometry but no collision geometry. Collision geometry will be left empty. Fix your URDF file by explicitly specifying collision geometry.\u001b[0m\n",
      "\u001b[33m[ WARN] [1676289490.895687916]: Link rear_lights_link has visual geometry but no collision geometry. Collision geometry will be left empty. Fix your URDF file by explicitly specifying collision geometry.\u001b[0m\n",
      "\u001b[33m[ WARN] [1676289490.895693088]: Link right_side_cover_link has visual geometry but no collision geometry. Collision geometry will be left empty. Fix your URDF file by explicitly specifying collision geometry.\u001b[0m\n"
     ]
    },
    {
     "name": "stdout",
     "output_type": "stream",
     "text": [
      "[INFO] [1676289492.299922]: Commencing scene point cloud update...\n",
      "[INFO] [1676289492.750516]: Processing received scene point cloud...\n",
      "[INFO] [1676289492.784966]: Scene pointcloud update success!\n",
      "[INFO] [1676289492.785648]: Commencing end-effector point cloud update...\n",
      "[INFO] [1676289493.236235]: Processing received end-effector point cloud...\n",
      "[INFO] [1676289493.237026]: End-effector pointcloud update success!\n"
     ]
    }
   ],
   "source": [
    "env_interface = EdfRosInterface(reference_frame = \"scene\")\n",
    "env_interface.reset()\n",
    "env_interface.moveit_interface.arm_group.set_planning_time(seconds=5)"
   ]
  },
  {
   "cell_type": "markdown",
   "metadata": {},
   "source": [
    "### Initialize dataset list"
   ]
  },
  {
   "cell_type": "code",
   "execution_count": 4,
   "metadata": {},
   "outputs": [],
   "source": [
    "dataset = []"
   ]
  },
  {
   "cell_type": "markdown",
   "metadata": {},
   "source": [
    "### Observe Point clouds"
   ]
  },
  {
   "cell_type": "code",
   "execution_count": 5,
   "metadata": {
    "scrolled": true
   },
   "outputs": [
    {
     "name": "stdout",
     "output_type": "stream",
     "text": [
      "[INFO] [1676289497.954196]: Commencing end-effector point cloud update...\n",
      "[INFO] [1676289499.389419]: Processing received end-effector point cloud...\n",
      "[INFO] [1676289499.390275]: End-effector pointcloud update success!\n",
      "[INFO] [1676289499.390906]: Commencing scene point cloud update...\n",
      "[INFO] [1676289500.336350]: Processing received scene point cloud...\n",
      "[INFO] [1676289500.341287]: Scene pointcloud update success!\n"
     ]
    }
   ],
   "source": [
    "grasp_raw = env_interface.observe_eef(obs_type = 'pointcloud', update = True)\n",
    "scene_raw = env_interface.observe_scene(obs_type = 'pointcloud', update = True)"
   ]
  },
  {
   "cell_type": "markdown",
   "metadata": {},
   "source": [
    "### Pick"
   ]
  },
  {
   "cell_type": "code",
   "execution_count": 6,
   "metadata": {},
   "outputs": [],
   "source": [
    "pick_poses = SE3([0.0, 0.0, 1.0, 0.0, -0.05, 0.0, 0.275])\n",
    "pre_pick_poses = SE3.multiply(pick_poses, SE3([1., 0., 0., 0., 0., 0., -0.1]))\n",
    "post_pick_poses = SE3.multiply(SE3([1., 0., 0., 0., 0., 0., 0.2]), pick_poses)"
   ]
  },
  {
   "cell_type": "code",
   "execution_count": 7,
   "metadata": {},
   "outputs": [],
   "source": [
    "idx = 0\n",
    "pick_pose, pre_pick_pose, post_pick_pose = pick_poses[idx], pre_pick_poses[idx], post_pick_poses[idx]"
   ]
  },
  {
   "cell_type": "code",
   "execution_count": 8,
   "metadata": {},
   "outputs": [
    {
     "name": "stdout",
     "output_type": "stream",
     "text": [
      "[INFO] [1676289501.134312]: EDF Moveit Interface: Found a motion plan with length: 9\n",
      "[INFO] [1676289501.149547]: EDF Moveit Interface: Found a Cartesian plan with length: 12\n",
      "[INFO] [1676289503.860097]: EDF Moveit Interface: Found a Cartesian plan with length: 21\n",
      "SUCCESS\n"
     ]
    }
   ],
   "source": [
    "pick_result = pick(pre_pick_pose, pick_pose, post_pick_pose, env_interface=env_interface)\n",
    "print(pick_result)"
   ]
  },
  {
   "cell_type": "code",
   "execution_count": 9,
   "metadata": {},
   "outputs": [],
   "source": [
    "assert pick_result == 'SUCCESS'\n",
    "pick_demo = TargetPoseDemo(target_poses=pick_poses, scene_pc=scene_raw, grasp_pc=grasp_raw)"
   ]
  },
  {
   "cell_type": "code",
   "execution_count": 10,
   "metadata": {},
   "outputs": [],
   "source": [
    "env_interface.detach()\n",
    "env_interface.attach_sphere(radius=0.1, pos=[0,0,0.22]) # To avoid collsion with mug"
   ]
  },
  {
   "cell_type": "markdown",
   "metadata": {},
   "source": [
    "### Observe gripper"
   ]
  },
  {
   "cell_type": "code",
   "execution_count": 11,
   "metadata": {},
   "outputs": [
    {
     "name": "stdout",
     "output_type": "stream",
     "text": [
      "[INFO] [1676289504.825269]: EDF Moveit Interface: Found a motion plan with length: 4\n",
      "SUCCESS\n"
     ]
    }
   ],
   "source": [
    "result = move_simple(target_poses = SE3([0., 0., 1., 0., -0.1, 0., 0.6]), env_interface=env_interface)\n",
    "print(result)\n",
    "\n",
    "# result = move_simple(target_poses = SE3([[0., 0., 1., 0., -0.1, 0., 0.6], \n",
    "#                                          [0.5, -0.5, -0.5, -0.5, 0.0, 0., 0.5], \n",
    "#                                          [1.0, 0.0, 0.0, 0.0, 0.0, 0.0, 0.5]]), \n",
    "#                      env_interface=env_interface)\n",
    "# print(result)"
   ]
  },
  {
   "cell_type": "code",
   "execution_count": 12,
   "metadata": {},
   "outputs": [
    {
     "name": "stdout",
     "output_type": "stream",
     "text": [
      "[INFO] [1676289505.601746]: Commencing end-effector point cloud update...\n",
      "[INFO] [1676289506.917661]: Processing received end-effector point cloud...\n",
      "[INFO] [1676289506.918668]: End-effector pointcloud update success!\n"
     ]
    }
   ],
   "source": [
    "if result == 'SUCCESS':\n",
    "    env_interface.detach()\n",
    "    grasp_raw = env_interface.observe_eef(obs_type = 'pointcloud', update = True)\n",
    "    env_interface.attach(pcd = grasp_raw)"
   ]
  },
  {
   "cell_type": "markdown",
   "metadata": {},
   "source": [
    "### Observe Scene"
   ]
  },
  {
   "cell_type": "code",
   "execution_count": 13,
   "metadata": {},
   "outputs": [
    {
     "name": "stdout",
     "output_type": "stream",
     "text": [
      "[INFO] [1676289507.738211]: EDF Moveit Interface: Found a motion plan with length: 15\n",
      "SUCCESS\n"
     ]
    }
   ],
   "source": [
    "result = move_simple(target_poses = SE3([0.0, 0.0, 1.0, 0.0, -0.4, 0.4, 0.6]), env_interface=env_interface)\n",
    "print(result)"
   ]
  },
  {
   "cell_type": "code",
   "execution_count": 14,
   "metadata": {},
   "outputs": [
    {
     "name": "stdout",
     "output_type": "stream",
     "text": [
      "[INFO] [1676289510.116105]: Commencing scene point cloud update...\n",
      "[INFO] [1676289511.312009]: Processing received scene point cloud...\n",
      "[INFO] [1676289511.316335]: Scene pointcloud update success!\n"
     ]
    }
   ],
   "source": [
    "if result == 'SUCCESS':\n",
    "    scene_raw = env_interface.observe_scene(obs_type = 'pointcloud', update = True)"
   ]
  },
  {
   "cell_type": "code",
   "execution_count": 15,
   "metadata": {},
   "outputs": [
    {
     "name": "stdout",
     "output_type": "stream",
     "text": [
      "[INFO] [1676289523.247147]: EDF Moveit Interface: Found a motion plan with length: 23\n",
      "SUCCESS\n"
     ]
    }
   ],
   "source": [
    "result = move_simple(target_poses = SE3([0., 0., 1., 0., -0.1, 0., 0.6]), env_interface=env_interface)\n",
    "print(result)"
   ]
  },
  {
   "cell_type": "markdown",
   "metadata": {},
   "source": [
    "### Place"
   ]
  },
  {
   "cell_type": "code",
   "execution_count": 16,
   "metadata": {},
   "outputs": [],
   "source": [
    "place_poses = SE3([0.5000, -0.5000, -0.5000, -0.5000, 0.12, -0.18, 0.30])\n",
    "_, pre_place_poses = optimize_pcd_collision(x=scene_raw, y=grasp_raw, \n",
    "                                            cutoff_r = 0.03, dt=0.01, eps=1., iters=5,\n",
    "                                            rel_pose=place_poses)\n",
    "post_place_poses = place_poses * pick_pose.inv() * pre_pick_pose"
   ]
  },
  {
   "cell_type": "code",
   "execution_count": 17,
   "metadata": {},
   "outputs": [],
   "source": [
    "idx = 0\n",
    "place_pose, pre_place_pose, post_place_pose = place_poses[idx], pre_place_poses[idx], post_place_poses[idx]"
   ]
  },
  {
   "cell_type": "code",
   "execution_count": 18,
   "metadata": {},
   "outputs": [
    {
     "name": "stdout",
     "output_type": "stream",
     "text": [
      "[INFO] [1676289526.027829]: EDF Moveit Interface: Found a motion plan with length: 20\n",
      "[INFO] [1676289526.095209]: EDF Moveit Interface: Found a Cartesian plan with length: 6\n",
      "[INFO] [1676289530.831754]: EDF Moveit Interface: Found a Cartesian plan with length: 11\n",
      "SUCCESS\n"
     ]
    }
   ],
   "source": [
    "result = place(pre_place_pose, place_pose, post_place_pose, env_interface)\n",
    "print(result)"
   ]
  },
  {
   "cell_type": "code",
   "execution_count": 19,
   "metadata": {},
   "outputs": [],
   "source": [
    "assert result == 'SUCCESS'\n",
    "place_demo = TargetPoseDemo(target_poses=place_poses, scene_pc=scene_raw, grasp_pc=grasp_raw)"
   ]
  },
  {
   "cell_type": "markdown",
   "metadata": {},
   "source": [
    "### Save"
   ]
  },
  {
   "cell_type": "code",
   "execution_count": 20,
   "metadata": {},
   "outputs": [],
   "source": [
    "demo_seq = DemoSequence(demo_seq = [pick_demo, place_demo])\n",
    "dataset.append(demo_seq)\n",
    "save_demos(demos=dataset, dir=\"demo/test_demo\")"
   ]
  }
 ],
 "metadata": {
  "kernelspec": {
   "display_name": "Python 3 (ipykernel)",
   "language": "python",
   "name": "python3"
  },
  "language_info": {
   "codemirror_mode": {
    "name": "ipython",
    "version": 3
   },
   "file_extension": ".py",
   "mimetype": "text/x-python",
   "name": "python",
   "nbconvert_exporter": "python",
   "pygments_lexer": "ipython3",
   "version": "3.8.16"
  },
  "vscode": {
   "interpreter": {
    "hash": "af6666271aa88010cf2cfaabf400b3e4725e891d1262c16234a99fd43f726498"
   }
  }
 },
 "nbformat": 4,
 "nbformat_minor": 2
}
