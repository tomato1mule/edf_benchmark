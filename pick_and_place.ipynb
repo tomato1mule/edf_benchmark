{
 "cells": [
  {
   "cell_type": "code",
   "execution_count": null,
   "metadata": {},
   "outputs": [],
   "source": [
    "from ros_edf.ros_interface import EdfRosInterface\n",
    "from edf.pc_utils import pcd_from_numpy, draw_geometry, reconstruct_surface\n",
    "from edf.data import PointCloud, SE3, TargetPoseDemo, DemoSequence, save_demos\n",
    "\n",
    "import torch\n",
    "import numpy as np\n",
    "import yaml\n",
    "import plotly as pl\n",
    "import plotly.express as ple\n",
    "import open3d as o3d"
   ]
  },
  {
   "cell_type": "markdown",
   "metadata": {},
   "source": [
    "### Initialize EDF ROS Interface"
   ]
  },
  {
   "cell_type": "code",
   "execution_count": null,
   "metadata": {},
   "outputs": [],
   "source": [
    "env_interface = EdfRosInterface(reference_frame = \"scene\")"
   ]
  },
  {
   "cell_type": "markdown",
   "metadata": {},
   "source": [
    "### Initialize dataset list"
   ]
  },
  {
   "cell_type": "code",
   "execution_count": null,
   "metadata": {},
   "outputs": [],
   "source": [
    "dataset = []"
   ]
  },
  {
   "cell_type": "markdown",
   "metadata": {},
   "source": [
    "### Observe Point clouds"
   ]
  },
  {
   "cell_type": "code",
   "execution_count": null,
   "metadata": {},
   "outputs": [],
   "source": [
    "grasp_pc = env_interface.observe_eef(obs_type = 'pointcloud', update = True)\n",
    "scene_pc = env_interface.observe_scene(obs_type = 'pointcloud', update = True)"
   ]
  },
  {
   "cell_type": "markdown",
   "metadata": {},
   "source": [
    "### Pick"
   ]
  },
  {
   "cell_type": "code",
   "execution_count": null,
   "metadata": {},
   "outputs": [],
   "source": [
    "target_poses = SE3([0.0, 0.0, 1.0, 0.0, -0.05, 0.0, 0.275])\n",
    "result = env_interface.pick(target_poses=target_poses)\n",
    "\n",
    "pick_success = result[-1] is not None"
   ]
  },
  {
   "cell_type": "code",
   "execution_count": null,
   "metadata": {},
   "outputs": [],
   "source": [
    "if True: # pick_success:\n",
    "    pick_demo = TargetPoseDemo(target_poses=target_poses, scene_pc=scene_pc, grasp_pc=grasp_pc)"
   ]
  },
  {
   "cell_type": "markdown",
   "metadata": {},
   "source": [
    "### Move to observe gripper"
   ]
  },
  {
   "cell_type": "code",
   "execution_count": null,
   "metadata": {},
   "outputs": [],
   "source": [
    "grasp_pc = env_interface.observe_eef(obs_type = 'pointcloud', update = True)\n",
    "env_interface.attach(pcd = grasp_pc)"
   ]
  },
  {
   "cell_type": "code",
   "execution_count": null,
   "metadata": {},
   "outputs": [],
   "source": [
    "env_interface.move_to_target_pose(poses = SE3([0.0, 0.0, 1.0, 0.0, 0.00, 0.0, 0.6]))"
   ]
  },
  {
   "cell_type": "markdown",
   "metadata": {},
   "source": [
    "### Observe gripper"
   ]
  },
  {
   "cell_type": "code",
   "execution_count": null,
   "metadata": {},
   "outputs": [],
   "source": [
    "env_interface.detach()\n",
    "grasp_pc = env_interface.observe_eef(obs_type = 'pointcloud', update = True)\n",
    "env_interface.attach(pcd = grasp_pc)"
   ]
  },
  {
   "cell_type": "markdown",
   "metadata": {},
   "source": [
    "### Observe Scene"
   ]
  },
  {
   "cell_type": "code",
   "execution_count": null,
   "metadata": {},
   "outputs": [],
   "source": [
    "env_interface.move_to_target_pose(SE3([0.0, 0.0, 1.0, 0.0, -0.4, 0.4, 0.6]))"
   ]
  },
  {
   "cell_type": "code",
   "execution_count": null,
   "metadata": {},
   "outputs": [],
   "source": [
    "scene_pc = env_interface.observe_scene(obs_type = 'pointcloud', update = True)"
   ]
  },
  {
   "cell_type": "markdown",
   "metadata": {},
   "source": [
    "### Place"
   ]
  },
  {
   "cell_type": "code",
   "execution_count": null,
   "metadata": {},
   "outputs": [],
   "source": [
    "target_poses = SE3([0.0, 0.0, 1.0, 0.0, -0.05, 0.0, 0.35])\n",
    "pre_grasp_results, grasp_pose = env_interface.move_to_target_pose(poses = target_poses)"
   ]
  },
  {
   "cell_type": "code",
   "execution_count": null,
   "metadata": {},
   "outputs": [],
   "source": [
    "env_interface.detach()\n",
    "env_interface.release()"
   ]
  },
  {
   "cell_type": "code",
   "execution_count": null,
   "metadata": {},
   "outputs": [],
   "source": [
    "place_demo = TargetPoseDemo(target_poses=target_poses, scene_pc=scene_pc, grasp_pc=grasp_pc)"
   ]
  },
  {
   "cell_type": "markdown",
   "metadata": {},
   "source": [
    "### Save"
   ]
  },
  {
   "cell_type": "code",
   "execution_count": null,
   "metadata": {},
   "outputs": [],
   "source": [
    "demo_seq = DemoSequence(demo_seq = [pick_demo, place_demo])\n",
    "dataset.append(demo_seq)\n",
    "save_demos(demos=dataset, dir=\"demo/test_demo\")"
   ]
  }
 ],
 "metadata": {
  "kernelspec": {
   "display_name": "Python 3 (ipykernel)",
   "language": "python",
   "name": "python3"
  },
  "language_info": {
   "codemirror_mode": {
    "name": "ipython",
    "version": 3
   },
   "file_extension": ".py",
   "mimetype": "text/x-python",
   "name": "python",
   "nbconvert_exporter": "python",
   "pygments_lexer": "ipython3",
   "version": "3.8.16"
  },
  "vscode": {
   "interpreter": {
    "hash": "af6666271aa88010cf2cfaabf400b3e4725e891d1262c16234a99fd43f726498"
   }
  }
 },
 "nbformat": 4,
 "nbformat_minor": 2
}
