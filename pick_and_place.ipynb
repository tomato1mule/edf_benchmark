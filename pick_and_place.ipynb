{
 "cells": [
  {
   "cell_type": "code",
   "execution_count": null,
   "metadata": {},
   "outputs": [],
   "source": [
    "from ros_edf.ros_interface import EdfRosInterface\n",
    "from ros_edf.pc_utils import pcd_from_numpy, draw_geometry, reconstruct_surface\n",
    "from edf.data import PointCloud, SE3, TargetPoseDemo, DemoSequence, save_demos\n",
    "from edf.pc_utils import check_pcd_collision, optimize_pcd_collision\n",
    "\n",
    "import torch\n",
    "import numpy as np\n",
    "import yaml\n",
    "import plotly as pl\n",
    "import plotly.express as ple\n",
    "import open3d as o3d"
   ]
  },
  {
   "cell_type": "markdown",
   "metadata": {},
   "source": [
    "### Initialize EDF ROS Interface"
   ]
  },
  {
   "cell_type": "code",
   "execution_count": null,
   "metadata": {},
   "outputs": [],
   "source": [
    "env_interface = EdfRosInterface(reference_frame = \"scene\")\n",
    "env_interface.reset()\n",
    "env_interface.moveit_interface.arm_group.set_planning_time(seconds=5)"
   ]
  },
  {
   "cell_type": "markdown",
   "metadata": {},
   "source": [
    "### Initialize dataset list"
   ]
  },
  {
   "cell_type": "code",
   "execution_count": null,
   "metadata": {},
   "outputs": [],
   "source": [
    "dataset = []"
   ]
  },
  {
   "cell_type": "markdown",
   "metadata": {},
   "source": [
    "### Observe Point clouds"
   ]
  },
  {
   "cell_type": "code",
   "execution_count": null,
   "metadata": {
    "scrolled": true
   },
   "outputs": [],
   "source": [
    "grasp_raw = env_interface.observe_eef(obs_type = 'pointcloud', update = True)\n",
    "scene_raw = env_interface.observe_scene(obs_type = 'pointcloud', update = True)"
   ]
  },
  {
   "cell_type": "markdown",
   "metadata": {},
   "source": [
    "### Pick"
   ]
  },
  {
   "cell_type": "code",
   "execution_count": null,
   "metadata": {},
   "outputs": [],
   "source": [
    "# pick_poses = SE3([0.0, 0.0, 1.0, 0.0, -0.05, 0.0, 0.275])\n",
    "# pre_pick_poses = SE3.multiply(pick_poses, SE3([1., 0., 0., 0., 0., 0., -0.1]))\n",
    "# post_pick_poses = SE3.multiply(SE3([1., 0., 0., 0., 0., 0., 0.2]), pick_poses)"
   ]
  },
  {
   "cell_type": "code",
   "execution_count": null,
   "metadata": {},
   "outputs": [],
   "source": [
    "pick_poses = SE3([0.0, 0.0, 1.0, 0.0, -0.05, 0.0, 0.275])\n",
    "_, pre_pick_poses = optimize_pcd_collision(x=scene_raw, y=grasp_raw, \n",
    "                                           cutoff_r = 0.03, dt=0.01, eps=1., iters=50,\n",
    "                                           rel_pose=pick_poses)\n",
    "post_pick_poses = pre_pick_poses"
   ]
  },
  {
   "cell_type": "code",
   "execution_count": null,
   "metadata": {},
   "outputs": [],
   "source": [
    "idx = 0\n",
    "pick_pose, pre_pick_pose, post_pick_pose = pick_poses[idx], pre_pick_poses[idx], post_pick_poses[idx]\n",
    "\n",
    "colcheck_r = 0.003 # Should be similar to voxel filter size\n",
    "col_check = check_pcd_collision(x=scene_raw, y=grasp_raw.transformed(pick_pose)[0], r = colcheck_r)\n",
    "print(f\"Collision-free Pick Pose: {not col_check}\")\n",
    "assert not col_check, \"No collision-free pick pose found!\""
   ]
  },
  {
   "cell_type": "code",
   "execution_count": null,
   "metadata": {},
   "outputs": [],
   "source": [
    "# draw_geometry([scene_raw] + grasp_raw.transformed(pre_pick_pose))"
   ]
  },
  {
   "cell_type": "code",
   "execution_count": null,
   "metadata": {},
   "outputs": [],
   "source": [
    "pick_result = env_interface.pick(pre_pick_pose, pick_pose, post_pick_pose)\n",
    "print(pick_result)"
   ]
  },
  {
   "cell_type": "code",
   "execution_count": null,
   "metadata": {},
   "outputs": [],
   "source": [
    "assert pick_result == 'SUCCESS'\n",
    "pick_demo = TargetPoseDemo(target_poses=pick_poses, scene_pc=scene_raw, grasp_pc=grasp_raw)"
   ]
  },
  {
   "cell_type": "code",
   "execution_count": null,
   "metadata": {},
   "outputs": [],
   "source": [
    "env_interface.detach()\n",
    "env_interface.attach_placeholder() # To avoid collsion with the grasped object"
   ]
  },
  {
   "cell_type": "markdown",
   "metadata": {},
   "source": [
    "### Observe gripper"
   ]
  },
  {
   "cell_type": "code",
   "execution_count": null,
   "metadata": {},
   "outputs": [],
   "source": [
    "# Home position\n",
    "result = env_interface.move_simple(target_poses = SE3([0., 0., 1., 0., -0.1, 0., 0.6]))\n",
    "print(result)"
   ]
  },
  {
   "cell_type": "code",
   "execution_count": null,
   "metadata": {},
   "outputs": [],
   "source": [
    "# result = env_interface.move_simple(target_poses = SE3([[0., 0., 1., 0., -0.1, 0., 0.6], \n",
    "#                                                        [0.5, -0.5, -0.5, -0.5, 0.0, 0., 0.5], \n",
    "#                                                        [1.0, 0.0, 0.0, 0.0, 0.0, 0.0, 0.5]]), \n",
    "#                                   )\n",
    "# print(result)"
   ]
  },
  {
   "cell_type": "code",
   "execution_count": null,
   "metadata": {},
   "outputs": [],
   "source": [
    "if result == 'SUCCESS':\n",
    "    env_interface.detach()\n",
    "    grasp_raw = env_interface.observe_eef(obs_type = 'pointcloud', update = True)\n",
    "    env_interface.attach(obj = grasp_raw)"
   ]
  },
  {
   "cell_type": "markdown",
   "metadata": {},
   "source": [
    "### Observe Scene"
   ]
  },
  {
   "cell_type": "code",
   "execution_count": null,
   "metadata": {},
   "outputs": [],
   "source": [
    "result = env_interface.move_simple(target_poses = SE3([0.0, 0.0, 1.0, 0.0, -0.4, 0.4, 0.6]))\n",
    "print(result)"
   ]
  },
  {
   "cell_type": "code",
   "execution_count": null,
   "metadata": {},
   "outputs": [],
   "source": [
    "if result == 'SUCCESS':\n",
    "    scene_raw = env_interface.observe_scene(obs_type = 'pointcloud', update = True)"
   ]
  },
  {
   "cell_type": "code",
   "execution_count": null,
   "metadata": {},
   "outputs": [],
   "source": [
    "result = env_interface.move_simple(target_poses = SE3([0., 0., 1., 0., -0.1, 0., 0.6]))\n",
    "print(result)"
   ]
  },
  {
   "cell_type": "markdown",
   "metadata": {},
   "source": [
    "### Place"
   ]
  },
  {
   "cell_type": "code",
   "execution_count": null,
   "metadata": {},
   "outputs": [],
   "source": [
    "place_poses = SE3([0.5000, -0.5000, -0.5000, -0.5000, 0.12, -0.18, 0.31])\n",
    "_, pre_place_poses = optimize_pcd_collision(x=scene_raw, y=grasp_raw, \n",
    "                                            cutoff_r = 0.03, dt=0.01, eps=1., iters=5,\n",
    "                                            rel_pose=place_poses)\n",
    "post_place_poses = place_poses * pick_pose.inv() * pre_pick_pose"
   ]
  },
  {
   "cell_type": "code",
   "execution_count": null,
   "metadata": {},
   "outputs": [],
   "source": [
    "idx = 0\n",
    "place_pose, pre_place_pose, post_place_pose = place_poses[idx], pre_place_poses[idx], post_place_poses[idx]\n",
    "\n",
    "colcheck_r = 0.003 # Should be similar to voxel filter size\n",
    "col_check = check_pcd_collision(x=scene_raw, y=grasp_raw.transformed(place_pose)[0], r = colcheck_r)\n",
    "print(f\"Collision-free Place Pose: {not col_check}\")\n",
    "assert not col_check, \"No collision-free place pose found!\""
   ]
  },
  {
   "cell_type": "code",
   "execution_count": null,
   "metadata": {},
   "outputs": [],
   "source": [
    "result = env_interface.place(pre_place_pose, place_pose, post_place_pose)\n",
    "print(result)"
   ]
  },
  {
   "cell_type": "code",
   "execution_count": null,
   "metadata": {},
   "outputs": [],
   "source": [
    "assert result == 'SUCCESS'\n",
    "env_interface.detach()\n",
    "env_interface.release()\n",
    "\n",
    "place_demo = TargetPoseDemo(target_poses=place_poses, scene_pc=scene_raw, grasp_pc=grasp_raw)"
   ]
  },
  {
   "cell_type": "markdown",
   "metadata": {},
   "source": [
    "### Save"
   ]
  },
  {
   "cell_type": "code",
   "execution_count": null,
   "metadata": {},
   "outputs": [],
   "source": [
    "demo_seq = DemoSequence(demo_seq = [pick_demo, place_demo])\n",
    "dataset.append(demo_seq)\n",
    "save_demos(demos=dataset, dir=\"demo/test_demo\")"
   ]
  }
 ],
 "metadata": {
  "kernelspec": {
   "display_name": "Python 3 (ipykernel)",
   "language": "python",
   "name": "python3"
  },
  "language_info": {
   "codemirror_mode": {
    "name": "ipython",
    "version": 3
   },
   "file_extension": ".py",
   "mimetype": "text/x-python",
   "name": "python",
   "nbconvert_exporter": "python",
   "pygments_lexer": "ipython3",
   "version": "3.8.16 (default, Jan 17 2023, 23:13:24) \n[GCC 11.2.0]"
  },
  "vscode": {
   "interpreter": {
    "hash": "af6666271aa88010cf2cfaabf400b3e4725e891d1262c16234a99fd43f726498"
   }
  }
 },
 "nbformat": 4,
 "nbformat_minor": 2
}
