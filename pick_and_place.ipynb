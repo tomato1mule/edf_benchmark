{
 "cells": [
  {
   "cell_type": "code",
   "execution_count": null,
   "metadata": {},
   "outputs": [],
   "source": [
    "%load_ext dotenv\n",
    "%dotenv\n",
    "\n",
    "from ros_edf.ros_interface import EdfRosInterface\n",
    "from ros_edf.pc_utils import pcd_from_numpy, draw_geometry, reconstruct_surface\n",
    "from edf.data import PointCloud, SE3, TargetPoseDemo, DemoSequence, save_demos\n",
    "from edf.pc_utils import check_pcd_collision, optimize_pcd_collision\n",
    "\n",
    "import torch\n",
    "import numpy as np\n",
    "import yaml\n",
    "import plotly as pl\n",
    "import plotly.express as ple\n",
    "import open3d as o3d"
   ]
  },
  {
   "attachments": {},
   "cell_type": "markdown",
   "metadata": {},
   "source": [
    "# Initialize Robot Interface"
   ]
  },
  {
   "cell_type": "code",
   "execution_count": null,
   "metadata": {},
   "outputs": [],
   "source": [
    "env_interface = EdfRosInterface(reference_frame = \"scene\", planner_id=\"AnytimePathShortening\")\n",
    "env_interface.set_planning_time(seconds=5.)\n",
    "env_interface.reset()"
   ]
  },
  {
   "cell_type": "markdown",
   "metadata": {},
   "source": [
    "### Initialize dataset list"
   ]
  },
  {
   "cell_type": "code",
   "execution_count": null,
   "metadata": {},
   "outputs": [],
   "source": [
    "dataset = []"
   ]
  },
  {
   "attachments": {},
   "cell_type": "markdown",
   "metadata": {},
   "source": [
    "# Pick"
   ]
  },
  {
   "attachments": {},
   "cell_type": "markdown",
   "metadata": {},
   "source": [
    "### Observe"
   ]
  },
  {
   "cell_type": "code",
   "execution_count": null,
   "metadata": {
    "scrolled": true
   },
   "outputs": [],
   "source": [
    "grasp_raw = env_interface.observe_eef(obs_type = 'pointcloud', update = True)\n",
    "scene_raw = env_interface.observe_scene(obs_type = 'pointcloud', update = True)"
   ]
  },
  {
   "attachments": {},
   "cell_type": "markdown",
   "metadata": {},
   "source": [
    "### Sample Pick Pose"
   ]
  },
  {
   "cell_type": "code",
   "execution_count": null,
   "metadata": {},
   "outputs": [],
   "source": [
    "pick_poses = SE3([0.0, 0.0, 1.0, 0.0, -0.05, 0.0, 0.275])\n",
    "# pre_pick_poses = SE3.multiply(pick_poses, SE3([1., 0., 0., 0., 0., 0., -0.1]))\n",
    "# post_pick_poses = SE3.multiply(SE3([1., 0., 0., 0., 0., 0., 0.2]), pick_poses)\n",
    "_, pre_pick_poses = optimize_pcd_collision(x=scene_raw, y=grasp_raw, \n",
    "                                           cutoff_r = 0.03, dt=0.01, eps=1., iters=50,\n",
    "                                           rel_pose=pick_poses)\n",
    "post_pick_poses = pre_pick_poses"
   ]
  },
  {
   "attachments": {},
   "cell_type": "markdown",
   "metadata": {},
   "source": [
    "### Execute Pick"
   ]
  },
  {
   "cell_type": "code",
   "execution_count": null,
   "metadata": {},
   "outputs": [],
   "source": [
    "for idx in [0]:\n",
    "    pick_pose, pre_pick_pose, post_pick_pose = pick_poses[idx], pre_pick_poses[idx], post_pick_poses[idx]\n",
    "    \n",
    "    colcheck_r = 0.003 # Should be similar to voxel filter size\n",
    "    col_check = check_pcd_collision(x=scene_raw, y=grasp_raw.transformed(pick_pose)[0], r = colcheck_r)\n",
    "    print(f\"Pick Pose_{idx} collision-free: {not col_check}\")\n",
    "    if not col_check:\n",
    "        break\n",
    "    \n",
    "if not col_check:\n",
    "    print(\"Found collision-free pick pose!\")\n",
    "else:\n",
    "    raise NotImplementedError(\"No collision-free pick pose found!\")"
   ]
  },
  {
   "cell_type": "code",
   "execution_count": null,
   "metadata": {},
   "outputs": [],
   "source": [
    "# DEBUG\n",
    "# draw_geometry([scene_raw] + grasp_raw.transformed(post_pick_pose))"
   ]
  },
  {
   "cell_type": "code",
   "execution_count": null,
   "metadata": {},
   "outputs": [],
   "source": [
    "pick_result = env_interface.pick(pre_pick_pose, pick_pose, post_pick_pose)\n",
    "print(f\"Pick result: {pick_result}\")\n",
    "if pick_result == \"SUCCESS\":\n",
    "    pick_demo = TargetPoseDemo(target_poses=pick_poses, scene_pc=scene_raw, grasp_pc=grasp_raw)\n",
    "    env_interface.detach()\n",
    "    env_interface.attach_placeholder() # To avoid collsion with the grasped object\n",
    "else:\n",
    "    raise NotImplementedError(\"Pick failed\")"
   ]
  },
  {
   "attachments": {},
   "cell_type": "markdown",
   "metadata": {},
   "source": [
    "# Observe for Place"
   ]
  },
  {
   "cell_type": "code",
   "execution_count": null,
   "metadata": {},
   "outputs": [],
   "source": [
    "# Observe EEF\n",
    "result = env_interface.move_to_named_target(\"init\")\n",
    "print(f\"Move to End-Effector observation pose: {result}\")\n",
    "if result == 'SUCCESS':\n",
    "    env_interface.detach()\n",
    "    grasp_raw = env_interface.observe_eef(obs_type = 'pointcloud', update = True)\n",
    "    env_interface.attach(obj = grasp_raw)\n",
    "else:\n",
    "    raise NotImplementedError(f\"Failed to move to End-Effector observation pose.\")\n",
    "\n",
    "# Observe Scene\n",
    "result = env_interface.move_to_named_target(\"observe\")\n",
    "print(f\"Move to Scene observation pose: {result}\")\n",
    "if result == 'SUCCESS':\n",
    "    scene_raw = env_interface.observe_scene(obs_type = 'pointcloud', update = True)\n",
    "else:\n",
    "    raise NotImplementedError(f\"Failed to move to Scene observation pose.\")\n",
    "\n",
    "\n",
    "result = env_interface.move_to_named_target(\"init\")\n",
    "print(f\"Come back to default pose: {result}\")\n",
    "if result == 'SUCCESS':\n",
    "    pass\n",
    "else:\n",
    "    raise NotImplementedError(f\"Failed to come back to default pose.\")"
   ]
  },
  {
   "attachments": {},
   "cell_type": "markdown",
   "metadata": {},
   "source": [
    "# Place"
   ]
  },
  {
   "attachments": {},
   "cell_type": "markdown",
   "metadata": {},
   "source": [
    "### Sample Place Poses"
   ]
  },
  {
   "cell_type": "code",
   "execution_count": null,
   "metadata": {},
   "outputs": [],
   "source": [
    "place_poses = SE3([0.5000, -0.5000, -0.5000, -0.5000, 0.13, -0.20, 0.32])\n",
    "_, pre_place_poses = optimize_pcd_collision(x=scene_raw, y=grasp_raw, \n",
    "                                            cutoff_r = 0.03, dt=0.01, eps=1., iters=5,\n",
    "                                            rel_pose=place_poses)\n",
    "post_place_poses = place_poses * pick_pose.inv() * pre_pick_pose"
   ]
  },
  {
   "attachments": {},
   "cell_type": "markdown",
   "metadata": {},
   "source": [
    "### Execute Place"
   ]
  },
  {
   "cell_type": "code",
   "execution_count": null,
   "metadata": {},
   "outputs": [],
   "source": [
    "for idx in [0]:\n",
    "    place_pose, pre_place_pose, post_place_pose = place_poses[idx], pre_place_poses[idx], post_place_poses[idx]\n",
    "    \n",
    "    colcheck_r = 0.0015 # Should be similar to voxel filter size\n",
    "    col_check = check_pcd_collision(x=scene_raw, y=grasp_raw.transformed(place_pose)[0], r = colcheck_r)\n",
    "    print(f\"Place Pose_{idx} collision-free: {not col_check}\")\n",
    "    if not col_check:\n",
    "        break\n",
    "    \n",
    "if not col_check:\n",
    "    print(\"Found collision-free place pose!\")\n",
    "else:\n",
    "    raise NotImplementedError(\"No collision-free place pose found!\")"
   ]
  },
  {
   "cell_type": "code",
   "execution_count": null,
   "metadata": {},
   "outputs": [],
   "source": [
    "# DEBUG\n",
    "# draw_geometry([scene_raw] + grasp_raw.transformed(place_pose))"
   ]
  },
  {
   "cell_type": "code",
   "execution_count": null,
   "metadata": {},
   "outputs": [],
   "source": [
    "place_result = env_interface.place(pre_place_pose, place_pose, post_place_pose)\n",
    "print(f\"Place result: {place_result}\")\n",
    "if place_result == \"SUCCESS\":\n",
    "    place_demo = TargetPoseDemo(target_poses=place_poses, scene_pc=scene_raw, grasp_pc=grasp_raw)\n",
    "    env_interface.detach()\n",
    "    env_interface.release()\n",
    "else:\n",
    "    raise NotImplementedError(\"Place failed\")"
   ]
  },
  {
   "cell_type": "markdown",
   "metadata": {},
   "source": [
    "### Save"
   ]
  },
  {
   "cell_type": "code",
   "execution_count": null,
   "metadata": {},
   "outputs": [],
   "source": [
    "demo_seq = DemoSequence(demo_seq = [pick_demo, place_demo])\n",
    "dataset.append(demo_seq)\n",
    "save_demos(demos=dataset, dir=\"demo/test_demo\")"
   ]
  }
 ],
 "metadata": {
  "kernelspec": {
   "display_name": "Python 3 (ipykernel)",
   "language": "python",
   "name": "python3"
  },
  "language_info": {
   "codemirror_mode": {
    "name": "ipython",
    "version": 3
   },
   "file_extension": ".py",
   "mimetype": "text/x-python",
   "name": "python",
   "nbconvert_exporter": "python",
   "pygments_lexer": "ipython3",
   "version": "3.8.16"
  },
  "vscode": {
   "interpreter": {
    "hash": "af6666271aa88010cf2cfaabf400b3e4725e891d1262c16234a99fd43f726498"
   }
  }
 },
 "nbformat": 4,
 "nbformat_minor": 2
}
