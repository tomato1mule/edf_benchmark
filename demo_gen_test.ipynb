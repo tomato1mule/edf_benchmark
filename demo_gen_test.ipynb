{
 "cells": [
  {
   "cell_type": "code",
   "execution_count": null,
   "metadata": {},
   "outputs": [],
   "source": [
    "import edf_env\n",
    "from edf_env.env import UR5Env\n",
    "from ros_edf.ros_interface import EdfRosInterface\n",
    "from edf_env.pybullet_pc_utils import pb_cams_to_pc\n",
    "from edf_env.pc_utils import pcd_from_numpy, draw_geometry\n",
    "from edf.data import PointCloud, SE3, PickDemo, PlaceDemo, PickAndPlaceDemo\n",
    "\n",
    "import numpy as np\n",
    "import yaml\n",
    "import plotly as pl\n",
    "import plotly.express as ple\n",
    "import open3d as o3d\n",
    "\n",
    "import pybullet as p"
   ]
  },
  {
   "cell_type": "code",
   "execution_count": null,
   "metadata": {},
   "outputs": [],
   "source": [
    "env_interface = EdfRosInterface()"
   ]
  },
  {
   "cell_type": "code",
   "execution_count": null,
   "metadata": {},
   "outputs": [],
   "source": [
    "demos = []"
   ]
  },
  {
   "cell_type": "code",
   "execution_count": null,
   "metadata": {},
   "outputs": [],
   "source": [
    "points, colors = env_interface.observe_scene(obs_type = 'pointcloud', update = False)\n",
    "scene_pc = PointCloud.from_numpy(points=points, colors=colors)"
   ]
  },
  {
   "cell_type": "code",
   "execution_count": null,
   "metadata": {},
   "outputs": [],
   "source": [
    "target_poses = np.array([[0.0, 0.0, 1.0, 0.0, -0.25, 0.0, 0.62]])\n",
    "pick_poses = SE3.from_numpy(orns = target_poses[..., :4], positions = target_poses[..., 4:], versor_last_input = True)"
   ]
  },
  {
   "cell_type": "code",
   "execution_count": null,
   "metadata": {},
   "outputs": [],
   "source": [
    "pick_demo = PickDemo(scene_pc=scene_pc, target_poses=pick_poses)\n",
    "demo = PickAndPlaceDemo(pick_demo=pick_demo)\n",
    "demos.append(demo)"
   ]
  },
  {
   "cell_type": "code",
   "execution_count": null,
   "metadata": {},
   "outputs": [],
   "source": [
    "demo.save_data(dir=\"demo\", filename=\"demo_test.gzip\")"
   ]
  },
  {
   "cell_type": "code",
   "execution_count": null,
   "metadata": {},
   "outputs": [],
   "source": [
    "env_interface.pick(target_poses=target_poses)"
   ]
  },
  {
   "cell_type": "code",
   "execution_count": null,
   "metadata": {},
   "outputs": [],
   "source": []
  }
 ],
 "metadata": {
  "kernelspec": {
   "display_name": "Python 3 (ipykernel)",
   "language": "python",
   "name": "python3"
  },
  "language_info": {
   "codemirror_mode": {
    "name": "ipython",
    "version": 3
   },
   "file_extension": ".py",
   "mimetype": "text/x-python",
   "name": "python",
   "nbconvert_exporter": "python",
   "pygments_lexer": "ipython3",
   "version": "3.8.16"
  },
  "vscode": {
   "interpreter": {
    "hash": "af6666271aa88010cf2cfaabf400b3e4725e891d1262c16234a99fd43f726498"
   }
  }
 },
 "nbformat": 4,
 "nbformat_minor": 2
}
