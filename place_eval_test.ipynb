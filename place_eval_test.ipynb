{
 "cells": [
  {
   "cell_type": "code",
   "execution_count": null,
   "metadata": {},
   "outputs": [],
   "source": [
    "import os\n",
    "\n",
    "from edf.pc_utils import draw_geometry, voxel_filter\n",
    "from edf.data import PointCloud, SE3, TargetPoseDemo, DemoSequence, DemoSeqDataset\n",
    "from edf.preprocess import Rescale, NormalizeColor, Downsample\n",
    "from edf.agent import PickAgent, PlaceAgent\n",
    "\n",
    "import numpy as np\n",
    "import yaml\n",
    "import plotly as pl\n",
    "import plotly.express as ple\n",
    "import open3d as o3d\n",
    "\n",
    "import torch\n",
    "from torch.utils.data import DataLoader\n",
    "from torchvision.transforms import Compose\n",
    "\n",
    "torch.set_printoptions(precision= 3, sci_mode=False, linewidth=120)"
   ]
  },
  {
   "cell_type": "code",
   "execution_count": null,
   "metadata": {},
   "outputs": [],
   "source": [
    "device = 'cuda:0'\n",
    "# device = 'cpu'\n",
    "unit_len = 0.01\n",
    "\n",
    "load_transforms = Compose([Rescale(rescale_factor=1/unit_len),\n",
    "                          ])\n",
    "trainset = DemoSeqDataset(dataset_dir=\"demo/test_demo\", annotation_file=\"data.yaml\", load_transforms = load_transforms, device=device)\n",
    "# train_dataloader = DataLoader(trainset, shuffle=False, collate_fn=lambda xs:{'processed': [x['processed'] for x in xs], 'raw': [x['raw'] for x in xs]}) \n",
    "train_dataloader = DataLoader(trainset, shuffle=False, collate_fn=lambda x:x)"
   ]
  },
  {
   "cell_type": "code",
   "execution_count": null,
   "metadata": {},
   "outputs": [],
   "source": [
    "place_agent_config_dir = \"config/agent_config/place_agent_dev.yaml\"\n",
    "place_agent_param_dir = \"checkpoint/mug_1_demo_dev/place/model_iter_300.pt\"\n",
    "max_N_query_place = 3\n",
    "langevin_dt_place = 0.001\n",
    "\n",
    "place_agent = PlaceAgent(config_dir=place_agent_config_dir, \n",
    "                       device = device,\n",
    "                       max_N_query = max_N_query_place, \n",
    "                       langevin_dt = langevin_dt_place)\n",
    "\n",
    "place_agent.load(place_agent_param_dir, strict=False)"
   ]
  },
  {
   "cell_type": "code",
   "execution_count": null,
   "metadata": {},
   "outputs": [],
   "source": [
    "scene_proc_fn = Compose([Downsample(voxel_size=1.7, coord_reduction=\"average\"),\n",
    "                            NormalizeColor(color_mean = torch.tensor([0.5, 0.5, 0.5]), color_std = torch.tensor([0.5, 0.5, 0.5]))])\n",
    "grasp_proc_fn = Compose([Downsample(voxel_size=1.4, coord_reduction=\"average\"),\n",
    "                            NormalizeColor(color_mean = torch.tensor([0.5, 0.5, 0.5]), color_std = torch.tensor([0.5, 0.5, 0.5]))])"
   ]
  },
  {
   "cell_type": "code",
   "execution_count": null,
   "metadata": {},
   "outputs": [],
   "source": [
    "for train_batch in train_dataloader:\n",
    "    for data in train_batch:\n",
    "        demo_seq_raw: DemoSequence = data\n",
    "        break\n",
    "    break"
   ]
  },
  {
   "cell_type": "code",
   "execution_count": null,
   "metadata": {},
   "outputs": [],
   "source": [
    "scene_raw = demo_seq_raw[1].scene_pc\n",
    "grasp_raw = demo_seq_raw[1].grasp_pc\n",
    "scene_proc = scene_proc_fn(scene_raw)\n",
    "grasp_proc = grasp_proc_fn(grasp_raw)"
   ]
  },
  {
   "cell_type": "code",
   "execution_count": null,
   "metadata": {},
   "outputs": [],
   "source": [
    "# query_points_visual = []\n",
    "# for query_point in pick_agent.query_model.query_points.cpu():\n",
    "#     mesh_sphere = o3d.geometry.TriangleMesh.create_sphere(radius=0.5)\n",
    "#     mesh_sphere.compute_vertex_normals()\n",
    "#     mesh_sphere.paint_uniform_color([0.7, 0.1, 0.1])\n",
    "#     mesh_sphere.translate(query_point)\n",
    "#     query_points_visual.append(mesh_sphere)\n",
    "\n",
    "# draw_geometry([grasp_pc_raw] + query_points_visual)"
   ]
  },
  {
   "cell_type": "code",
   "execution_count": null,
   "metadata": {},
   "outputs": [],
   "source": [
    "T_seed = 100\n",
    "place_policy = 'sorted'\n",
    "place_mh_iter = 1000\n",
    "place_langevin_iter = 300\n",
    "place_dist_temp = 1.\n",
    "place_policy_temp = 1.\n",
    "place_optim_iter = 100\n",
    "place_optim_lr = 0.005\n",
    "place_query_temp = 1."
   ]
  },
  {
   "cell_type": "code",
   "execution_count": null,
   "metadata": {},
   "outputs": [],
   "source": [
    "Ts, edf_outputs, logs = place_agent.forward(scene=scene_proc, T_seed=T_seed, grasp=grasp_proc, policy = place_policy, mh_iter=place_mh_iter, langevin_iter=place_langevin_iter, \n",
    "                                            temperature=place_dist_temp, policy_temperature=place_policy_temp, optim_iter=place_optim_iter, optim_lr=place_optim_lr, query_temperature=place_query_temp)"
   ]
  },
  {
   "cell_type": "code",
   "execution_count": null,
   "metadata": {},
   "outputs": [],
   "source": [
    "grasps = grasp_raw.transformed(Ts[1].to(device))"
   ]
  },
  {
   "cell_type": "code",
   "execution_count": null,
   "metadata": {},
   "outputs": [],
   "source": [
    "draw_geometry([scene_proc] + [grasps])"
   ]
  }
 ],
 "metadata": {
  "kernelspec": {
   "display_name": "Python 3 (ipykernel)",
   "language": "python",
   "name": "python3"
  },
  "language_info": {
   "codemirror_mode": {
    "name": "ipython",
    "version": 3
   },
   "file_extension": ".py",
   "mimetype": "text/x-python",
   "name": "python",
   "nbconvert_exporter": "python",
   "pygments_lexer": "ipython3",
   "version": "3.8.16"
  },
  "vscode": {
   "interpreter": {
    "hash": "af6666271aa88010cf2cfaabf400b3e4725e891d1262c16234a99fd43f726498"
   }
  }
 },
 "nbformat": 4,
 "nbformat_minor": 2
}
