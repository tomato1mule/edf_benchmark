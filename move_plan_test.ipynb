{
 "cells": [
  {
   "cell_type": "code",
   "execution_count": null,
   "metadata": {},
   "outputs": [],
   "source": [
    "from ros_edf.ros_interface import EdfRosInterface\n",
    "from edf.data import PointCloud, SE3, TargetPoseDemo, DemoSequence, DemoSeqDataset, save_demos\n",
    "from edf.pc_utils import optimize_pcd_collision, draw_geometry\n",
    "from edf.preprocess import Rescale, NormalizeColor, Downsample, ApplySE3\n",
    "from edf.agent import PickAgent, PlaceAgent\n",
    "\n",
    "import torch\n",
    "from torch.utils.data import DataLoader\n",
    "from torchvision.transforms import Compose\n",
    "\n",
    "torch.set_printoptions(precision= 3, sci_mode=False, linewidth=120)"
   ]
  },
  {
   "cell_type": "markdown",
   "metadata": {},
   "source": [
    "# Initialize Robot Interface"
   ]
  },
  {
   "cell_type": "code",
   "execution_count": null,
   "metadata": {},
   "outputs": [],
   "source": [
    "env_interface = EdfRosInterface(reference_frame = \"scene\")\n",
    "env_interface.reset()\n",
    "env_interface.moveit_interface.arm_group.set_planning_time(seconds=5)"
   ]
  },
  {
   "cell_type": "code",
   "execution_count": null,
   "metadata": {},
   "outputs": [],
   "source": [
    "plan_targets = [(SE3([0., 0., 1., 0., 0., 0., 0.6]), \"default\", {}),\n",
    "                (SE3([0., 0., 1., 0., 0., 0., 0.4]), \"default\", {}),\n",
    "                (SE3([0., 0., 1., 0., 0., 0., 0.6]), \"default\", {}),\n",
    "                (SE3([[0., 0., 1., 0., 0., 0., 0.4],[0., 0., 1., 0., 0., 0., 0.6]]), \"cartesian\", {'cartesian_step': 0.01, 'cspace_step_thr': 10., 'avoid_collision': False, 'success_fraction': 0.95}),\n",
    "                (SE3([[0., 0., 1., 0., 0., 0., 0.4],[0., 0., 1., 0., 0., 0., 0.6]]), \"cartesian\", {'cartesian_step': 0.01, 'cspace_step_thr': 10., 'avoid_collision': False, 'success_fraction': 0.95}),\n",
    "                (SE3([0., 0., 1., 0., 0., 0., 0.5]), \"default\", {}),\n",
    "               ]\n",
    "\n",
    "\n",
    "plan_results, plans = env_interface.move_plans(targets=plan_targets)"
   ]
  },
  {
   "cell_type": "code",
   "execution_count": null,
   "metadata": {},
   "outputs": [],
   "source": [
    "if plan_results[-1] is True:\n",
    "    env_interface.execute_plans(plans)"
   ]
  }
 ],
 "metadata": {
  "kernelspec": {
   "display_name": "Python 3 (ipykernel)",
   "language": "python",
   "name": "python3"
  },
  "language_info": {
   "codemirror_mode": {
    "name": "ipython",
    "version": 3
   },
   "file_extension": ".py",
   "mimetype": "text/x-python",
   "name": "python",
   "nbconvert_exporter": "python",
   "pygments_lexer": "ipython3",
   "version": "3.8.16 (default, Jan 17 2023, 23:13:24) \n[GCC 11.2.0]"
  },
  "vscode": {
   "interpreter": {
    "hash": "af6666271aa88010cf2cfaabf400b3e4725e891d1262c16234a99fd43f726498"
   }
  }
 },
 "nbformat": 4,
 "nbformat_minor": 2
}
