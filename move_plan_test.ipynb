{
 "cells": [
  {
   "cell_type": "code",
   "execution_count": 1,
   "metadata": {},
   "outputs": [
    {
     "name": "stdout",
     "output_type": "stream",
     "text": [
      "Jupyter environment detected. Enabling Open3D WebVisualizer.\n",
      "[Open3D INFO] WebRTC GUI backend enabled.\n",
      "[Open3D INFO] WebRTCWindowSystem: HTTP handshake server disabled.\n"
     ]
    }
   ],
   "source": [
    "from ros_edf.ros_interface import EdfRosInterface\n",
    "from edf.data import PointCloud, SE3, TargetPoseDemo, DemoSequence, DemoSeqDataset, save_demos\n",
    "from edf.pc_utils import optimize_pcd_collision, draw_geometry\n",
    "from edf.preprocess import Rescale, NormalizeColor, Downsample, ApplySE3\n",
    "from edf.agent import PickAgent, PlaceAgent\n",
    "\n",
    "import torch\n",
    "from torch.utils.data import DataLoader\n",
    "from torchvision.transforms import Compose\n",
    "\n",
    "torch.set_printoptions(precision= 3, sci_mode=False, linewidth=120)"
   ]
  },
  {
   "cell_type": "markdown",
   "metadata": {},
   "source": [
    "# Initialize Robot Interface"
   ]
  },
  {
   "cell_type": "code",
   "execution_count": 2,
   "metadata": {},
   "outputs": [
    {
     "name": "stderr",
     "output_type": "stream",
     "text": [
      "\u001b[33m[ WARN] [1676268174.804222163]: Link axle_link has visual geometry but no collision geometry. Collision geometry will be left empty. Fix your URDF file by explicitly specifying collision geometry.\u001b[0m\n",
      "\u001b[33m[ WARN] [1676268174.804242319]: Link front_rocker_link has visual geometry but no collision geometry. Collision geometry will be left empty. Fix your URDF file by explicitly specifying collision geometry.\u001b[0m\n",
      "\u001b[33m[ WARN] [1676268174.804254075]: Link rear_rocker_link has visual geometry but no collision geometry. Collision geometry will be left empty. Fix your URDF file by explicitly specifying collision geometry.\u001b[0m\n",
      "\u001b[33m[ WARN] [1676268174.804263875]: Link front_cover_link has visual geometry but no collision geometry. Collision geometry will be left empty. Fix your URDF file by explicitly specifying collision geometry.\u001b[0m\n",
      "\u001b[33m[ WARN] [1676268174.804269385]: Link front_lights_link has visual geometry but no collision geometry. Collision geometry will be left empty. Fix your URDF file by explicitly specifying collision geometry.\u001b[0m\n",
      "\u001b[33m[ WARN] [1676268174.804275402]: Link left_side_cover_link has visual geometry but no collision geometry. Collision geometry will be left empty. Fix your URDF file by explicitly specifying collision geometry.\u001b[0m\n",
      "\u001b[33m[ WARN] [1676268174.804281126]: Link rear_cover_link has visual geometry but no collision geometry. Collision geometry will be left empty. Fix your URDF file by explicitly specifying collision geometry.\u001b[0m\n",
      "\u001b[33m[ WARN] [1676268174.804285858]: Link rear_lights_link has visual geometry but no collision geometry. Collision geometry will be left empty. Fix your URDF file by explicitly specifying collision geometry.\u001b[0m\n",
      "\u001b[33m[ WARN] [1676268174.804291013]: Link right_side_cover_link has visual geometry but no collision geometry. Collision geometry will be left empty. Fix your URDF file by explicitly specifying collision geometry.\u001b[0m\n"
     ]
    },
    {
     "name": "stdout",
     "output_type": "stream",
     "text": [
      "[INFO] [1676268176.056413]: Commencing scene point cloud update...\n",
      "[INFO] [1676268176.407205]: Processing received scene point cloud...\n",
      "[INFO] [1676268176.412616]: Scene pointcloud update success!\n",
      "[INFO] [1676268176.413166]: Commencing end-effector point cloud update...\n",
      "[INFO] [1676268176.463692]: Processing received end-effector point cloud...\n",
      "[INFO] [1676268176.464459]: End-effector pointcloud update success!\n"
     ]
    }
   ],
   "source": [
    "env_interface = EdfRosInterface(reference_frame = \"scene\")\n",
    "env_interface.reset()\n",
    "env_interface.moveit_interface.arm_group.set_planning_time(seconds=5)"
   ]
  },
  {
   "cell_type": "code",
   "execution_count": 3,
   "metadata": {},
   "outputs": [
    {
     "name": "stdout",
     "output_type": "stream",
     "text": [
      "[INFO] [1676268180.963775]: EDF Moveit Interface: Found a motion plan with length: 10\n",
      "[INFO] [1676268181.266529]: EDF Moveit Interface: Found a motion plan with length: 6\n",
      "[INFO] [1676268181.363917]: EDF Moveit Interface: Found a motion plan with length: 6\n",
      "[INFO] [1676268181.398805]: EDF Moveit Interface: Found a cartesian plan with length: 43\n",
      "[INFO] [1676268181.448874]: EDF Moveit Interface: Found a cartesian plan with length: 42\n",
      "[INFO] [1676268181.567001]: EDF Moveit Interface: Found a motion plan with length: 4\n"
     ]
    }
   ],
   "source": [
    "plan_targets = [(SE3([0., 0., 1., 0., 0., 0., 0.6]), \"default\", {}),\n",
    "                (SE3([0., 0., 1., 0., 0., 0., 0.4]), \"default\", {}),\n",
    "                (SE3([0., 0., 1., 0., 0., 0., 0.6]), \"default\", {}),\n",
    "                (SE3([[0., 0., 1., 0., 0., 0., 0.4],[0., 0., 1., 0., 0., 0., 0.6]]), \"cartesian\", {'cartesian_step': 0.01, 'cspace_step_thr': 10., 'avoid_collision': False, 'success_fraction': 0.95}),\n",
    "                (SE3([[0., 0., 1., 0., 0., 0., 0.4],[0., 0., 1., 0., 0., 0., 0.6]]), \"cartesian\", {'cartesian_step': 0.01, 'cspace_step_thr': 10., 'avoid_collision': False, 'success_fraction': 0.95}),\n",
    "                (SE3([0., 0., 1., 0., 0., 0., 0.5]), \"default\", {}),\n",
    "               ]\n",
    "\n",
    "\n",
    "plan_results, plans = env_interface.move_plans(targets=plan_targets)"
   ]
  },
  {
   "cell_type": "code",
   "execution_count": 4,
   "metadata": {},
   "outputs": [],
   "source": [
    "if plan_results[-1] is True:\n",
    "    env_interface.execute_plans(plans)"
   ]
  }
 ],
 "metadata": {
  "kernelspec": {
   "display_name": "Python 3 (ipykernel)",
   "language": "python",
   "name": "python3"
  },
  "language_info": {
   "codemirror_mode": {
    "name": "ipython",
    "version": 3
   },
   "file_extension": ".py",
   "mimetype": "text/x-python",
   "name": "python",
   "nbconvert_exporter": "python",
   "pygments_lexer": "ipython3",
   "version": "3.8.16"
  },
  "vscode": {
   "interpreter": {
    "hash": "af6666271aa88010cf2cfaabf400b3e4725e891d1262c16234a99fd43f726498"
   }
  }
 },
 "nbformat": 4,
 "nbformat_minor": 2
}
