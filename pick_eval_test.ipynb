{
 "cells": [
  {
   "cell_type": "code",
   "execution_count": null,
   "metadata": {},
   "outputs": [],
   "source": [
    "import os\n",
    "\n",
    "from edf.pc_utils import draw_geometry, voxel_filter\n",
    "from edf.data import PointCloud, SE3, TargetPoseDemo, DemoSequence, DemoSeqDataset\n",
    "from edf.preprocess import Rescale, NormalizeColor, Downsample\n",
    "from edf.agent import PickAgent\n",
    "\n",
    "import numpy as np\n",
    "import yaml\n",
    "import plotly as pl\n",
    "import plotly.express as ple\n",
    "import open3d as o3d\n",
    "\n",
    "import torch\n",
    "from torch.utils.data import DataLoader\n",
    "from torchvision.transforms import Compose\n",
    "\n",
    "torch.set_printoptions(precision= 3, sci_mode=False, linewidth=120)"
   ]
  },
  {
   "cell_type": "code",
   "execution_count": null,
   "metadata": {},
   "outputs": [],
   "source": [
    "device = 'cuda:0'\n",
    "# device = 'cpu'\n",
    "unit_len = 0.01\n",
    "\n",
    "load_transforms = Compose([Rescale(rescale_factor=1/unit_len),\n",
    "                          ])\n",
    "trainset = DemoSeqDataset(dataset_dir=\"demo/test_demo\", annotation_file=\"data.yaml\", load_transforms = load_transforms, device=device)\n",
    "# train_dataloader = DataLoader(trainset, shuffle=False, collate_fn=lambda xs:{'processed': [x['processed'] for x in xs], 'raw': [x['raw'] for x in xs]}) \n",
    "train_dataloader = DataLoader(trainset, shuffle=False, collate_fn=lambda x:x)"
   ]
  },
  {
   "cell_type": "code",
   "execution_count": null,
   "metadata": {},
   "outputs": [],
   "source": [
    "pick_agent_config_dir = \"config/agent_config/pick_agent.yaml\"\n",
    "pick_agent_param_dir = \"checkpoint/mug_10_demo/pick/model_iter_600.pt\"\n",
    "max_N_query_pick = 1\n",
    "langevin_dt_pick = 0.001\n",
    "\n",
    "pick_agent = PickAgent(config_dir=pick_agent_config_dir, \n",
    "                       device = device,\n",
    "                       max_N_query = max_N_query_pick, \n",
    "                       langevin_dt = langevin_dt_pick)\n",
    "\n",
    "pick_agent.load(pick_agent_param_dir)"
   ]
  },
  {
   "cell_type": "code",
   "execution_count": null,
   "metadata": {},
   "outputs": [],
   "source": [
    "T_eg = SE3([ 0.707,  0.000,  0.000,  0.707,  0.000,  0.000, 15.000])"
   ]
  },
  {
   "cell_type": "code",
   "execution_count": null,
   "metadata": {},
   "outputs": [],
   "source": [
    "scene_proc_fn = Compose([Downsample(voxel_size=1.7, coord_reduction=\"average\"),\n",
    "                            NormalizeColor(color_mean = torch.tensor([0.5, 0.5, 0.5]), color_std = torch.tensor([0.5, 0.5, 0.5]))])\n",
    "grasp_proc_fn = Compose([Downsample(voxel_size=1.4, coord_reduction=\"average\"),\n",
    "                            NormalizeColor(color_mean = torch.tensor([0.5, 0.5, 0.5]), color_std = torch.tensor([0.5, 0.5, 0.5]))])"
   ]
  },
  {
   "cell_type": "code",
   "execution_count": null,
   "metadata": {},
   "outputs": [],
   "source": [
    "for train_batch in train_dataloader:\n",
    "    for data in train_batch:\n",
    "        demo_seq_raw: DemoSequence = data['raw']\n",
    "        demo_seq: DemoSequence = data['processed']\n",
    "        break\n",
    "    break"
   ]
  },
  {
   "cell_type": "code",
   "execution_count": null,
   "metadata": {},
   "outputs": [],
   "source": [
    "scene_raw = demo_seq_raw[0].scene_pc\n",
    "grasp_raw = demo_seq_raw[0].grasp_pc\n",
    "scene_proc = scene_proc_fn(scene_raw)\n",
    "grasp_proc = grasp_proc_fn(grasp_raw)"
   ]
  },
  {
   "cell_type": "code",
   "execution_count": null,
   "metadata": {},
   "outputs": [],
   "source": [
    "# query_points_visual = []\n",
    "# for query_point in pick_agent.query_model.query_points.cpu():\n",
    "#     mesh_sphere = o3d.geometry.TriangleMesh.create_sphere(radius=0.5)\n",
    "#     mesh_sphere.compute_vertex_normals()\n",
    "#     mesh_sphere.paint_uniform_color([0.7, 0.1, 0.1])\n",
    "#     mesh_sphere.translate(query_point)\n",
    "#     query_points_visual.append(mesh_sphere)\n",
    "\n",
    "# draw_geometry([grasp_pc_raw] + query_points_visual)"
   ]
  },
  {
   "cell_type": "code",
   "execution_count": null,
   "metadata": {},
   "outputs": [],
   "source": [
    "T_seed = 100\n",
    "pick_policy = 'sorted'\n",
    "pick_mh_iter = 1000\n",
    "pick_langevin_iter = 300\n",
    "pick_dist_temp = 1.\n",
    "pick_policy_temp = 1.\n",
    "pick_optim_iter = 100\n",
    "pick_optim_lr = 0.005"
   ]
  },
  {
   "cell_type": "code",
   "execution_count": null,
   "metadata": {},
   "outputs": [],
   "source": [
    "Ts, edf_outputs, logs = pick_agent.forward(scene=scene_proc, T_seed=T_seed, policy = pick_policy, mh_iter=pick_mh_iter, langevin_iter=pick_langevin_iter, \n",
    "                                            temperature=pick_dist_temp, policy_temperature=pick_policy_temp, optim_iter=pick_optim_iter, optim_lr=pick_optim_lr)"
   ]
  },
  {
   "cell_type": "code",
   "execution_count": null,
   "metadata": {},
   "outputs": [],
   "source": [
    "Ts = SE3.multiply(SE3(Ts), T_eg.inv()).to(device)"
   ]
  },
  {
   "cell_type": "code",
   "execution_count": null,
   "metadata": {},
   "outputs": [],
   "source": [
    "grasps = grasp_raw.transformed(Ts)"
   ]
  },
  {
   "cell_type": "code",
   "execution_count": null,
   "metadata": {},
   "outputs": [],
   "source": [
    "draw_geometry([scene_raw] + grasps[:2])"
   ]
  },
  {
   "cell_type": "code",
   "execution_count": null,
   "metadata": {},
   "outputs": [],
   "source": []
  },
  {
   "cell_type": "code",
   "execution_count": null,
   "metadata": {},
   "outputs": [],
   "source": [
    "# query_points_visual = []\n",
    "# for T in Ts:\n",
    "#     mesh_sphere = o3d.geometry.TriangleMesh.create_sphere(radius=0.5)\n",
    "#     mesh_sphere.compute_vertex_normals()\n",
    "#     mesh_sphere.paint_uniform_color([0.7, 0.1, 0.1])\n",
    "#     mesh_sphere.translate(T[4:].cpu())\n",
    "#     query_points_visual.append(mesh_sphere)\n",
    "\n",
    "# draw_geometry([scene_pc] + query_points_visual)"
   ]
  }
 ],
 "metadata": {
  "kernelspec": {
   "display_name": "Python 3 (ipykernel)",
   "language": "python",
   "name": "python3"
  },
  "language_info": {
   "codemirror_mode": {
    "name": "ipython",
    "version": 3
   },
   "file_extension": ".py",
   "mimetype": "text/x-python",
   "name": "python",
   "nbconvert_exporter": "python",
   "pygments_lexer": "ipython3",
   "version": "3.8.16"
  },
  "vscode": {
   "interpreter": {
    "hash": "af6666271aa88010cf2cfaabf400b3e4725e891d1262c16234a99fd43f726498"
   }
  }
 },
 "nbformat": 4,
 "nbformat_minor": 2
}
