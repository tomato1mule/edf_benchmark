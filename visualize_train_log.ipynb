{
 "cells": [
  {
   "cell_type": "code",
   "execution_count": null,
   "metadata": {},
   "outputs": [],
   "source": [
    "import os\n",
    "\n",
    "from edf.pc_utils import draw_geometry, create_o3d_points, get_plotly_fig\n",
    "from edf.data import PointCloud, SE3, TargetPoseDemo, DemoSequence, DemoSeqDataset, gzip_load\n",
    "from edf.preprocess import Rescale, NormalizeColor, Downsample, PointJitter, ColorJitter\n",
    "from edf.agent import PickAgent, PlaceAgent\n",
    "\n",
    "import numpy as np\n",
    "import yaml\n",
    "import plotly as pl\n",
    "import plotly.express as ple\n",
    "import open3d as o3d\n",
    "\n",
    "import torch\n",
    "from torch.utils.data import DataLoader\n",
    "from torchvision.transforms import Compose\n",
    "\n",
    "torch.set_printoptions(precision= 3, sci_mode=False, linewidth=120)"
   ]
  },
  {
   "cell_type": "code",
   "execution_count": null,
   "metadata": {},
   "outputs": [],
   "source": [
    "agent_config_dir = \"config/agent_config/place_agent_dev.yaml\"\n",
    "train_config_dir = \"config/train_config/train_place_dev.yaml\"\n",
    "agent_param_dir = \"checkpoint/mug_10_demo/place_dev\""
   ]
  },
  {
   "cell_type": "code",
   "execution_count": null,
   "metadata": {},
   "outputs": [],
   "source": [
    "train_logs = gzip_load(dir=agent_param_dir, filename=f\"trainlog_iter_{1}.gzip\")\n",
    "scene_raw: PointCloud = train_logs['scene_raw']\n",
    "grasp_raw: PointCloud = train_logs['grasp_raw']\n",
    "query_points = train_logs['edf_outputs']['query_points']\n",
    "query_attention = train_logs['edf_outputs']['query_attention']\n",
    "target_pose = SE3(train_logs['target_T'])\n",
    "best_pose = SE3(train_logs['best_neg_T'])\n",
    "sampled_poses= SE3(train_logs['sampled_Ts'])"
   ]
  },
  {
   "cell_type": "code",
   "execution_count": null,
   "metadata": {},
   "outputs": [],
   "source": [
    "grasp_pl = grasp_raw.plotly(point_size=1.0, name=\"grasp\")\n",
    "query_points = train_logs['edf_outputs']['query_points']\n",
    "query_attention = train_logs['edf_outputs']['query_attention']\n",
    "query_opacity = query_attention ** 1\n",
    "query_pl = PointCloud.points_to_plotly(pcd=query_points, point_size=15.0, opacity=query_opacity / query_opacity.max())"
   ]
  },
  {
   "cell_type": "code",
   "execution_count": null,
   "metadata": {},
   "outputs": [],
   "source": [
    "target_pcd = PointCloud.merge(scene_raw, grasp_raw.transformed(target_pose)[0])\n",
    "target_pl = target_pcd.plotly(point_size=1.0)\n",
    "fig_target = get_plotly_fig(\"Target Placement\")\n",
    "fig_target = fig_target.add_traces([target_pl])"
   ]
  },
  {
   "cell_type": "code",
   "execution_count": null,
   "metadata": {},
   "outputs": [],
   "source": [
    "best_sample_pcd = PointCloud.merge(scene_raw, grasp_raw.transformed(best_pose)[0])\n",
    "best_sample_pl = best_sample_pcd.plotly(point_size=1.0)\n",
    "sample_pl = PointCloud.points_to_plotly(pcd=sampled_poses.points, point_size=7.0, colors=[0.2, 0.5, 0.8])\n",
    "fig_sample = get_plotly_fig(\"Sampled Placement\")\n",
    "fig_sample = fig_sample.add_traces([best_sample_pl, sample_pl])"
   ]
  },
  {
   "cell_type": "code",
   "execution_count": null,
   "metadata": {},
   "outputs": [],
   "source": []
  },
  {
   "cell_type": "code",
   "execution_count": null,
   "metadata": {},
   "outputs": [],
   "source": []
  },
  {
   "cell_type": "code",
   "execution_count": null,
   "metadata": {},
   "outputs": [],
   "source": []
  },
  {
   "cell_type": "code",
   "execution_count": null,
   "metadata": {},
   "outputs": [],
   "source": []
  },
  {
   "cell_type": "code",
   "execution_count": null,
   "metadata": {},
   "outputs": [],
   "source": []
  }
 ],
 "metadata": {
  "kernelspec": {
   "display_name": "Python 3 (ipykernel)",
   "language": "python",
   "name": "python3"
  },
  "language_info": {
   "codemirror_mode": {
    "name": "ipython",
    "version": 3
   },
   "file_extension": ".py",
   "mimetype": "text/x-python",
   "name": "python",
   "nbconvert_exporter": "python",
   "pygments_lexer": "ipython3",
   "version": "3.8.16 (default, Jan 17 2023, 23:13:24) \n[GCC 11.2.0]"
  },
  "vscode": {
   "interpreter": {
    "hash": "af6666271aa88010cf2cfaabf400b3e4725e891d1262c16234a99fd43f726498"
   }
  }
 },
 "nbformat": 4,
 "nbformat_minor": 2
}
