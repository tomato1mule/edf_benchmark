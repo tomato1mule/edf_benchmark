{
 "cells": [
  {
   "cell_type": "code",
   "execution_count": null,
   "metadata": {},
   "outputs": [],
   "source": [
    "import os\n",
    "\n",
    "from edf.pc_utils import draw_geometry, create_o3d_points, get_plotly_fig\n",
    "from edf.data import PointCloud, SE3, TargetPoseDemo, DemoSequence, DemoSeqDataset, gzip_load\n",
    "from edf.preprocess import Rescale, NormalizeColor, Downsample, PointJitter, ColorJitter\n",
    "from edf.agent import PickAgent, PlaceAgent\n",
    "\n",
    "import numpy as np\n",
    "import yaml\n",
    "import plotly as pl\n",
    "import plotly.express as ple\n",
    "import open3d as o3d\n",
    "\n",
    "import torch\n",
    "from torch.utils.data import DataLoader\n",
    "from torchvision.transforms import Compose\n",
    "\n",
    "torch.set_printoptions(precision= 3, sci_mode=False, linewidth=120)"
   ]
  },
  {
   "cell_type": "code",
   "execution_count": null,
   "metadata": {},
   "outputs": [],
   "source": [
    "agent_config_dir = \"config/agent_config/place_agent_dev.yaml\"\n",
    "train_config_dir = \"config/train_config/train_place_dev.yaml\"\n",
    "agent_param_dir = \"checkpoint/mug_10_demo/place_dev\"\n",
    "\n",
    "with open(train_config_dir) as file:\n",
    "    config = yaml.load(file, Loader=yaml.FullLoader)\n",
    "device = 'cpu' # config['device']\n",
    "unit_len = config['characteristic_length']\n",
    "temperature = config['temperature']\n",
    "max_epochs = config['max_epochs']\n",
    "N_transform_init = config['N_transform_init']\n",
    "mh_iter_init = config['mh_iter_init']\n",
    "langevin_iter_init = config['langevin_iter_init']\n",
    "langevin_begin_epoch = config['langevin_begin_epoch']\n",
    "report_freq = config['report_freq']\n",
    "init_CD_ratio = config['init_CD_ratio']\n",
    "end_CD_ratio = config['end_CD_ratio']\n",
    "CD_end_iter = config['CD_end_iter']\n",
    "lr_se3T = config['lr_se3T']\n",
    "lr_energy_fast = config['lr_energy_fast']\n",
    "lr_energy_slow = config['lr_energy_slow']\n",
    "lr_query_fast = config['lr_query_fast']\n",
    "lr_query_slow = config['lr_query_slow']\n",
    "std_theta_perturb = config['std_theta_degree_perturb'] / 180 * np.pi\n",
    "std_X_perturb = config['std_X_perturb']\n",
    "edf_norm_std = config['edf_norm_std']\n",
    "query_anneal_end_iter = config['query_anneal_end_iter']\n",
    "query_init_temp = config['query_init_temp']\n",
    "query_end_temp = config['query_end_temp']\n",
    "elbo_end_iter = config['elbo_end_iter']\n",
    "langevin_dt = config['langevin_dt']"
   ]
  },
  {
   "cell_type": "code",
   "execution_count": null,
   "metadata": {},
   "outputs": [],
   "source": [
    "train_logs = gzip_load(dir=agent_param_dir, filename=f\"trainlog_iter_{1}.gzip\")"
   ]
  },
  {
   "cell_type": "code",
   "execution_count": null,
   "metadata": {},
   "outputs": [],
   "source": [
    "train_logs['scene_raw'] = train_logs['scene_raw'].to('cpu')\n",
    "train_logs['grasp_raw'] = train_logs['grasp_raw'].to('cpu')\n",
    "train_logs['scene_proc'] = train_logs['scene_proc'].to('cpu')\n",
    "train_logs['grasp_proc'] = train_logs['grasp_proc'].to('cpu')"
   ]
  },
  {
   "cell_type": "code",
   "execution_count": null,
   "metadata": {},
   "outputs": [],
   "source": [
    "scene_raw: PointCloud = train_logs['scene_raw']\n",
    "grasp_raw: PointCloud = train_logs['grasp_raw']"
   ]
  },
  {
   "cell_type": "code",
   "execution_count": null,
   "metadata": {},
   "outputs": [],
   "source": [
    "grasp_pl = grasp_raw.plotly(point_size=1.0, name=\"grasp\")\n",
    "query_points = train_logs['edf_outputs']['query_points']\n",
    "query_attention = train_logs['edf_outputs']['query_attention']\n",
    "query_opacity = query_attention ** 1\n",
    "query_pl = PointCloud.points_to_plotly(pcd=query_points, point_size=15.0, opacity=query_opacity / query_opacity.max())"
   ]
  },
  {
   "cell_type": "code",
   "execution_count": null,
   "metadata": {},
   "outputs": [],
   "source": [
    "fig = get_plotly_fig()\n",
    "fig = fig.add_traces([grasp_pl, query_pl])\n",
    "fig.show()"
   ]
  },
  {
   "cell_type": "code",
   "execution_count": null,
   "metadata": {},
   "outputs": [],
   "source": [
    "target_pcd = PointCloud.merge(scene_raw, grasp_raw.transformed(SE3(train_logs['target_T']))[0])\n",
    "sample_pcd = PointCloud.merge(scene_raw, grasp_raw.transformed(SE3(train_logs['best_neg_T']))[0])\n",
    "target_pl = target_pcd.plotly(point_size=1.0)\n",
    "sample_pl = sample_pcd.plotly(point_size=1.0)"
   ]
  },
  {
   "cell_type": "code",
   "execution_count": null,
   "metadata": {},
   "outputs": [],
   "source": [
    "fig = get_plotly_fig()\n",
    "fig = fig.add_traces([sample_pl])\n",
    "fig.show()"
   ]
  },
  {
   "cell_type": "code",
   "execution_count": null,
   "metadata": {},
   "outputs": [],
   "source": []
  },
  {
   "cell_type": "code",
   "execution_count": null,
   "metadata": {},
   "outputs": [],
   "source": []
  },
  {
   "cell_type": "code",
   "execution_count": null,
   "metadata": {},
   "outputs": [],
   "source": []
  },
  {
   "cell_type": "code",
   "execution_count": null,
   "metadata": {},
   "outputs": [],
   "source": []
  },
  {
   "cell_type": "code",
   "execution_count": null,
   "metadata": {},
   "outputs": [],
   "source": []
  },
  {
   "cell_type": "code",
   "execution_count": null,
   "metadata": {},
   "outputs": [],
   "source": []
  },
  {
   "cell_type": "code",
   "execution_count": null,
   "metadata": {},
   "outputs": [],
   "source": []
  }
 ],
 "metadata": {
  "kernelspec": {
   "display_name": "Python 3 (ipykernel)",
   "language": "python",
   "name": "python3"
  },
  "language_info": {
   "codemirror_mode": {
    "name": "ipython",
    "version": 3
   },
   "file_extension": ".py",
   "mimetype": "text/x-python",
   "name": "python",
   "nbconvert_exporter": "python",
   "pygments_lexer": "ipython3",
   "version": "3.8.16"
  },
  "vscode": {
   "interpreter": {
    "hash": "af6666271aa88010cf2cfaabf400b3e4725e891d1262c16234a99fd43f726498"
   }
  }
 },
 "nbformat": 4,
 "nbformat_minor": 2
}
