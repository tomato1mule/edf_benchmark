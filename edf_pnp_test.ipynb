{
 "cells": [
  {
   "cell_type": "code",
   "execution_count": null,
   "metadata": {},
   "outputs": [],
   "source": [
    "%load_ext dotenv\n",
    "%dotenv\n",
    "\n",
    "import sys, os\n",
    "try:\n",
    "    from ros_edf.ros_interface import EdfRosInterface\n",
    "except ModuleNotFoundError:\n",
    "    sys.path.append(os.path.join(os.getcwd(), 'ros_edf_interface/src/ros_edf/src'))\n",
    "    from ros_edf.ros_interface import EdfRosInterface\n",
    "\n",
    "from edf.data import PointCloud, SE3, TargetPoseDemo, DemoSequence, DemoSeqDataset, save_demos\n",
    "from edf.pc_utils import optimize_pcd_collision, draw_geometry, check_pcd_collision\n",
    "from edf.preprocess import Rescale, NormalizeColor, Downsample, ApplySE3\n",
    "from edf.agent import PickAgent, PlaceAgent\n",
    "\n",
    "import torch\n",
    "from torch.utils.data import DataLoader\n",
    "from torchvision.transforms import Compose\n",
    "\n",
    "torch.set_printoptions(precision= 3, sci_mode=False, linewidth=120)"
   ]
  },
  {
   "cell_type": "markdown",
   "metadata": {},
   "source": [
    "# Initialize EDF"
   ]
  },
  {
   "cell_type": "code",
   "execution_count": null,
   "metadata": {},
   "outputs": [],
   "source": [
    "device = 'cuda:0'\n",
    "# device = 'cpu'\n",
    "unit_len = 0.01"
   ]
  },
  {
   "cell_type": "code",
   "execution_count": null,
   "metadata": {},
   "outputs": [],
   "source": [
    "pick_agent_config_dir = \"config/agent_config/pick_agent.yaml\"\n",
    "pick_agent_param_dir = \"checkpoint/mug_10_demo/pick/model_iter_600.pt\"\n",
    "max_N_query_pick = 1\n",
    "langevin_dt_pick = 0.001\n",
    "\n",
    "pick_agent = PickAgent(config_dir=pick_agent_config_dir, \n",
    "                       device = device,\n",
    "                       max_N_query = max_N_query_pick, \n",
    "                       langevin_dt = langevin_dt_pick).requires_grad_(False)\n",
    "\n",
    "pick_agent.load(pick_agent_param_dir)"
   ]
  },
  {
   "cell_type": "code",
   "execution_count": null,
   "metadata": {},
   "outputs": [],
   "source": [
    "place_agent_config_dir = \"config/agent_config/place_agent_dev.yaml\"\n",
    "place_agent_param_dir = \"checkpoint/mug_1_demo_dev/place_dev/model_iter_300.pt\"\n",
    "max_N_query_place = 3\n",
    "langevin_dt_place = 0.001\n",
    "\n",
    "place_agent = PlaceAgent(config_dir=place_agent_config_dir, \n",
    "                         device = device,\n",
    "                         max_N_query = max_N_query_place, \n",
    "                         langevin_dt = langevin_dt_place).requires_grad_(False)\n",
    "\n",
    "place_agent.load(place_agent_param_dir, strict=False)"
   ]
  },
  {
   "cell_type": "code",
   "execution_count": null,
   "metadata": {},
   "outputs": [],
   "source": [
    "scene_proc_fn = Compose([Rescale(rescale_factor=1/unit_len),\n",
    "                         Downsample(voxel_size=1.7, coord_reduction=\"average\"),\n",
    "                         NormalizeColor(color_mean = torch.tensor([0.5, 0.5, 0.5]), color_std = torch.tensor([0.5, 0.5, 0.5]))])\n",
    "grasp_proc_fn = Compose([\n",
    "                         Rescale(rescale_factor=1/unit_len),\n",
    "                         Downsample(voxel_size=1.4, coord_reduction=\"average\"),\n",
    "                         NormalizeColor(color_mean = torch.tensor([0.5, 0.5, 0.5]), color_std = torch.tensor([0.5, 0.5, 0.5]))])\n",
    "recover_scale = Rescale(rescale_factor=unit_len)"
   ]
  },
  {
   "cell_type": "markdown",
   "metadata": {},
   "source": [
    "# Initialize Robot Interface"
   ]
  },
  {
   "cell_type": "code",
   "execution_count": null,
   "metadata": {},
   "outputs": [],
   "source": [
    "env_interface = EdfRosInterface(reference_frame = \"scene\", planner_id=\"AnytimePathShortening\")\n",
    "env_interface.set_planning_time(seconds=5.)\n",
    "env_interface.reset()"
   ]
  },
  {
   "cell_type": "markdown",
   "metadata": {},
   "source": [
    "# Pick"
   ]
  },
  {
   "cell_type": "markdown",
   "metadata": {},
   "source": [
    "### Observe"
   ]
  },
  {
   "cell_type": "code",
   "execution_count": null,
   "metadata": {},
   "outputs": [],
   "source": [
    "grasp_raw = env_interface.observe_eef(obs_type = 'pointcloud', update = True)\n",
    "scene_raw = env_interface.observe_scene(obs_type = 'pointcloud', update = True)"
   ]
  },
  {
   "cell_type": "markdown",
   "metadata": {},
   "source": [
    "### Sample Pick Pose"
   ]
  },
  {
   "cell_type": "code",
   "execution_count": null,
   "metadata": {},
   "outputs": [],
   "source": [
    "scene_proc = scene_proc_fn(scene_raw).to(device)\n",
    "grasp_proc = grasp_proc_fn(grasp_raw).to(device)\n",
    "\n",
    "T_seed = 100\n",
    "pick_policy = 'sorted'\n",
    "pick_mh_iter = 1000\n",
    "pick_langevin_iter = 300\n",
    "pick_dist_temp = 1.\n",
    "pick_policy_temp = 1.\n",
    "pick_optim_iter = 100\n",
    "pick_optim_lr = 0.005\n",
    "\n",
    "Ts, edf_outputs, logs = pick_agent.forward(scene=scene_proc, T_seed=T_seed, policy = pick_policy, mh_iter=pick_mh_iter, langevin_iter=pick_langevin_iter, \n",
    "                                            temperature=pick_dist_temp, policy_temperature=pick_policy_temp, optim_iter=pick_optim_iter, optim_lr=pick_optim_lr)\n",
    "\n",
    "T_eg = SE3([ 0.707,  0.000,  0.000,  0.707,  0.000,  0.000, 0.150])\n",
    "pick_poses = recover_scale(SE3(Ts.cpu()))\n",
    "pick_poses = SE3.multiply(pick_poses, T_eg.inv())"
   ]
  },
  {
   "cell_type": "markdown",
   "metadata": {},
   "source": [
    "### Define Pre-pick and Post-pick poses"
   ]
  },
  {
   "cell_type": "code",
   "execution_count": null,
   "metadata": {},
   "outputs": [],
   "source": [
    "_, pre_pick_poses = optimize_pcd_collision(x=scene_raw, y=grasp_raw, \n",
    "                                           cutoff_r = 0.05, dt=0.01, eps=1., iters=7,\n",
    "                                           rel_pose=pick_poses)\n",
    "post_pick_poses = pre_pick_poses"
   ]
  },
  {
   "cell_type": "markdown",
   "metadata": {},
   "source": [
    "### Move to Pre-pick Pose"
   ]
  },
  {
   "cell_type": "code",
   "execution_count": null,
   "metadata": {},
   "outputs": [],
   "source": [
    "# idx = 0\n",
    "# pick_pose, pre_pick_pose, post_pick_pose = pick_poses[idx], pre_pick_poses[idx], post_pick_poses[idx]\n",
    "for idx in range(10):\n",
    "    pick_pose, pre_pick_pose, post_pick_pose = pick_poses[idx], pre_pick_poses[idx], post_pick_poses[idx]\n",
    "    \n",
    "    colcheck_r = 0.003 # Should be similar to voxel filter size\n",
    "    col_check = check_pcd_collision(x=scene_raw, y=grasp_raw.transformed(pick_pose)[0], r = colcheck_r)\n",
    "    print(f\"Pick Pose_{idx} collision-free: {not col_check}\")\n",
    "    if not col_check:\n",
    "        break\n",
    "    \n",
    "assert not col_check, \"No collision-free pick pose found!\""
   ]
  },
  {
   "cell_type": "code",
   "execution_count": null,
   "metadata": {},
   "outputs": [],
   "source": [
    "# DEBUG\n",
    "# draw_geometry([scene_raw] + grasp_raw.transformed(post_pick_pose))"
   ]
  },
  {
   "cell_type": "code",
   "execution_count": null,
   "metadata": {},
   "outputs": [],
   "source": [
    "pick_result = env_interface.pick(pre_pick_pose, pick_pose, post_pick_pose)\n",
    "print(pick_result)\n",
    "assert pick_result == \"SUCCESS\", \"Pick Fail\""
   ]
  },
  {
   "cell_type": "code",
   "execution_count": null,
   "metadata": {},
   "outputs": [],
   "source": [
    "assert pick_result, \"Pick Fail\"\n",
    "\n",
    "env_interface.detach()\n",
    "env_interface.attach_placeholder() # To avoid collsion with the grasped object"
   ]
  },
  {
   "cell_type": "markdown",
   "metadata": {},
   "source": [
    "# Observe for Place"
   ]
  },
  {
   "cell_type": "markdown",
   "metadata": {},
   "source": [
    "### Observe Gripper"
   ]
  },
  {
   "cell_type": "code",
   "execution_count": null,
   "metadata": {},
   "outputs": [],
   "source": [
    "# Home position\n",
    "# result = env_interface.move_simple(target_poses = SE3([0., 0., 1., 0., -0.1, 0., 0.6]))\n",
    "result = env_interface.move_to_named_target(\"init\")\n",
    "print(result)\n",
    "assert result == 'SUCCESS'"
   ]
  },
  {
   "cell_type": "code",
   "execution_count": null,
   "metadata": {},
   "outputs": [],
   "source": [
    "if result == 'SUCCESS':\n",
    "    env_interface.detach()\n",
    "    grasp_raw = env_interface.observe_eef(obs_type = 'pointcloud', update = True)\n",
    "    env_interface.attach(obj = grasp_raw)"
   ]
  },
  {
   "cell_type": "markdown",
   "metadata": {},
   "source": [
    "### Observe Scene"
   ]
  },
  {
   "cell_type": "code",
   "execution_count": null,
   "metadata": {},
   "outputs": [],
   "source": [
    "# result = env_interface.move_simple(target_poses = SE3([0.0, 0.0, 1.0, 0.0, -0.4, 0.4, 0.6]))\n",
    "result = env_interface.move_to_named_target(\"observe\")\n",
    "print(result)\n",
    "assert result == 'SUCCESS'"
   ]
  },
  {
   "cell_type": "code",
   "execution_count": null,
   "metadata": {},
   "outputs": [],
   "source": [
    "if result == 'SUCCESS':\n",
    "    scene_raw = env_interface.observe_scene(obs_type = 'pointcloud', update = True)"
   ]
  },
  {
   "cell_type": "code",
   "execution_count": null,
   "metadata": {},
   "outputs": [],
   "source": [
    "# result = env_interface.move_simple(target_poses = SE3([0., 0., 1., 0., -0.1, 0., 0.6]))\n",
    "result = env_interface.move_to_named_target(\"init\")\n",
    "print(result)\n",
    "assert result == 'SUCCESS'"
   ]
  },
  {
   "cell_type": "markdown",
   "metadata": {},
   "source": [
    "# Place"
   ]
  },
  {
   "cell_type": "markdown",
   "metadata": {},
   "source": [
    "### Sample Place Poses"
   ]
  },
  {
   "cell_type": "code",
   "execution_count": null,
   "metadata": {},
   "outputs": [],
   "source": [
    "scene_proc = scene_proc_fn(scene_raw).to(device)\n",
    "grasp_proc = grasp_proc_fn(grasp_raw).to(device)"
   ]
  },
  {
   "cell_type": "code",
   "execution_count": null,
   "metadata": {},
   "outputs": [],
   "source": [
    "T_seed = 100\n",
    "place_policy = 'sorted'\n",
    "place_mh_iter = 1000\n",
    "place_langevin_iter = 300\n",
    "place_dist_temp = 1.\n",
    "place_policy_temp = 1.\n",
    "place_optim_iter = 100\n",
    "place_optim_lr = 0.005\n",
    "place_query_temp = 1.\n",
    "\n",
    "Ts, edf_outputs, logs = place_agent.forward(scene=scene_proc, T_seed=T_seed, grasp=grasp_proc, policy = place_policy, mh_iter=place_mh_iter, langevin_iter=place_langevin_iter, \n",
    "                                            temperature=place_dist_temp, policy_temperature=place_policy_temp, optim_iter=place_optim_iter, optim_lr=place_optim_lr, query_temperature=place_query_temp)\n",
    "\n",
    "place_poses = recover_scale(SE3(Ts.cpu()))"
   ]
  },
  {
   "cell_type": "markdown",
   "metadata": {},
   "source": [
    "### Define Pre-place and Post-place poses"
   ]
  },
  {
   "cell_type": "code",
   "execution_count": null,
   "metadata": {},
   "outputs": [],
   "source": [
    "_, pre_place_poses = optimize_pcd_collision(x=scene_raw, y=grasp_raw, \n",
    "                                            cutoff_r = 0.03, dt=0.01, eps=1., iters=5,\n",
    "                                            rel_pose=place_poses)\n",
    "post_place_poses = place_poses * pick_pose.inv() * pre_pick_pose"
   ]
  },
  {
   "cell_type": "code",
   "execution_count": null,
   "metadata": {},
   "outputs": [],
   "source": [
    "# idx = 0\n",
    "# place_pose, pre_place_pose, post_place_pose = place_poses[idx], pre_place_poses[idx], post_place_poses[idx]\n",
    "for idx in range(0,10):\n",
    "    place_pose, pre_place_pose, post_place_pose = place_poses[idx], pre_place_poses[idx], post_place_poses[idx]\n",
    "    \n",
    "    colcheck_r = 0.0015 # Should be similar to voxel filter size\n",
    "    col_check = check_pcd_collision(x=scene_raw, y=grasp_raw.transformed(place_pose)[0], r = colcheck_r)\n",
    "    print(f\"Place Pose_{idx} collision-free: {not col_check}\")\n",
    "    if not col_check:\n",
    "        break\n",
    "    \n",
    "assert not col_check, \"No collision-free place pose found!\""
   ]
  },
  {
   "cell_type": "code",
   "execution_count": null,
   "metadata": {},
   "outputs": [],
   "source": [
    "result = env_interface.place(pre_place_pose, place_pose, post_place_pose)\n",
    "print(result)\n",
    "assert result == 'SUCCESS'"
   ]
  },
  {
   "cell_type": "code",
   "execution_count": null,
   "metadata": {},
   "outputs": [],
   "source": [
    "# DEBUG\n",
    "# draw_geometry([scene_raw] + grasp_raw.transformed(pre_place_pose))"
   ]
  },
  {
   "cell_type": "code",
   "execution_count": null,
   "metadata": {},
   "outputs": [],
   "source": [
    "assert result, \"Place fail!\"\n",
    "env_interface.detach()\n",
    "env_interface.release()"
   ]
  }
 ],
 "metadata": {
  "kernelspec": {
   "display_name": "Python 3 (ipykernel)",
   "language": "python",
   "name": "python3"
  },
  "language_info": {
   "codemirror_mode": {
    "name": "ipython",
    "version": 3
   },
   "file_extension": ".py",
   "mimetype": "text/x-python",
   "name": "python",
   "nbconvert_exporter": "python",
   "pygments_lexer": "ipython3",
   "version": "3.8.16"
  },
  "vscode": {
   "interpreter": {
    "hash": "af6666271aa88010cf2cfaabf400b3e4725e891d1262c16234a99fd43f726498"
   }
  }
 },
 "nbformat": 4,
 "nbformat_minor": 2
}
